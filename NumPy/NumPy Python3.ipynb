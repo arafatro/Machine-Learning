{
 "cells": [
  {
   "cell_type": "markdown",
   "metadata": {},
   "source": [
    "## Numpy Array"
   ]
  },
  {
   "cell_type": "code",
   "execution_count": 5,
   "metadata": {},
   "outputs": [
    {
     "name": "stdout",
     "output_type": "stream",
     "text": [
      "Height: [1.87 1.82 1.85 1.92 1.8  1.88] \n",
      "Weight: [81.43 92.13 80.23 88.95 90.67 82.44]\n",
      "<class 'numpy.ndarray'> <class 'numpy.ndarray'>\n"
     ]
    }
   ],
   "source": [
    "# Create 2 new lists height and weight\n",
    "height = [1.87, 1.82, 1.85, 1.92, 1.80, 1.88]\n",
    "weight = [81.43, 92.13, 80.23, 88.95, 90.67, 82.44]\n",
    "\n",
    "# Import the numpy package as np\n",
    "import numpy as np \n",
    "\n",
    "# Create 2 numpy arrays from height and weight\n",
    "np_height = np.array(height)\n",
    "np_weight = np.array(weight)\n",
    "\n",
    "print(\"Height:\", np_height, \"\\nWeight:\", np_weight)\n",
    "print(type(np_height), type(np_weight)) #want to know the type of the containers\n"
   ]
  },
  {
   "cell_type": "markdown",
   "metadata": {},
   "source": [
    "## Array Basics\n",
    "\n",
    "Four Different ways of Creating Array. \n",
    "Array is also known as a vector"
   ]
  },
  {
   "cell_type": "code",
   "execution_count": 24,
   "metadata": {},
   "outputs": [
    {
     "name": "stdout",
     "output_type": "stream",
     "text": [
      "[0 1 2 3 4]\n",
      "[0 1 2 3 4]\n",
      "Index Value:  2\n",
      "[0 1 2 3 4]\n",
      "[0.         1.57079633 3.14159265 4.71238898 6.28318531]\n"
     ]
    }
   ],
   "source": [
    "import numpy as np\n",
    "\n",
    "array1 = np.array([0,1,2,3,4])\n",
    "print(array1)\n",
    "array2 = np.array((0,1,2,3,4))\n",
    "print(array2)\n",
    "print(\"Index Value: \", array2[2])\n",
    "array3 = np.arange(5)\n",
    "print(array3)\n",
    "array4 = np.linspace(0, 2*np.pi, 5)  #numpy.linspace(start, stop, num=50, endpoint=True, retstep=False, dtype=None, axis=0)\n",
    "print(array4)"
   ]
  },
  {
   "cell_type": "markdown",
   "metadata": {},
   "source": [
    "## Representing Matrix in numpy\n"
   ]
  },
  {
   "cell_type": "code",
   "execution_count": 59,
   "metadata": {},
   "outputs": [
    {
     "name": "stdout",
     "output_type": "stream",
     "text": [
      "19\n",
      "[ 1  4  7 10 13 16 19]\n",
      "\n",
      "Zeros\n",
      " [[0 0 0]\n",
      " [0 0 0]]\n",
      "\n",
      "Ones\n",
      " [[1 1 1]\n",
      " [1 1 1]\n",
      " [1 1 1]]\n",
      "\n",
      "Empty\n",
      " [[[2.46151512e-312 2.31297541e-312 2.35541533e-312 2.05833592e-312]\n",
      "  [2.22809558e-312 2.56761491e-312 2.48273508e-312 2.05833592e-312]]\n",
      "\n",
      " [[2.05833592e-312 2.29175545e-312 2.07955588e-312 2.14321575e-312]\n",
      "  [7.15112582e-312 2.55693350e-039 3.53802579e-057 4.25776447e-096]]]\n",
      "\n",
      "Random\n",
      " [[0.13998022 0.55058268 0.94644834 0.11437147]\n",
      " [0.22749461 0.44739925 0.17586739 0.53781226]\n",
      " [0.81513909 0.62236567 0.22483915 0.92477755]]\n"
     ]
    }
   ],
   "source": [
    "import numpy as np\n",
    "matrix = np.array([[11, 12, 13, 14, 15],\n",
    "                  [16, 17, 18, 19, 20],\n",
    "                  [21, 22, 23, 24, 25],\n",
    "                  [26, 27, 28 ,29, 30],\n",
    "                  [31, 32, 33, 34, 35]])\n",
    "\n",
    "print(matrix[1,3]) \n",
    "\n",
    "arr = np.arange(1, 20, 3) # np.arange(start, end, step)\n",
    "print(arr)\n",
    "\n",
    "arr1 = np.arange(1, 20, 3, dtype = np.float64)\n",
    "print(arr1)\n",
    "\n",
    "arr2 = np.zeros((2, 3), dtype=np.int16)\n",
    "print(\"\\nZeros\\n\", arr2)\n",
    "arr3 = np.ones((3, 3), dtype = np.int16)\n",
    "print(\"\\nOnes\\n\", arr3)\n",
    "arr4 = np.empty((2, 2, 4))\n",
    "print(\"\\nEmpty\\n\", arr4)\n",
    "\n",
    "arr5 = np.random.random((3, 4))\n",
    "print(\"\\nRandom\\n\", arr5)\n"
   ]
  },
  {
   "cell_type": "markdown",
   "metadata": {},
   "source": [
    "## Working with arrays\n",
    "Basic Operators\n"
   ]
  },
  {
   "cell_type": "code",
   "execution_count": 42,
   "metadata": {},
   "outputs": [
    {
     "name": "stdout",
     "output_type": "stream",
     "text": [
      "[[ 0  1  2  3  4]\n",
      " [ 5  6  7  8  9]\n",
      " [10 11 12 13 14]\n",
      " [15 16 17 18 19]\n",
      " [20 21 22 23 24]]\n",
      "\n",
      " [[10 62  1 14  2]\n",
      " [56 79  2  1 45]\n",
      " [ 4 92  5 55 63]\n",
      " [43 35  6 53 24]\n",
      " [56  3 56 44 78]]\n",
      "\n",
      " Addition\n",
      "[[ 10  63   3  17   6]\n",
      " [ 61  85   9   9  54]\n",
      " [ 14 103  17  68  77]\n",
      " [ 58  51  23  71  43]\n",
      " [ 76  24  78  67 102]]\n",
      "\n",
      " Subtraction\n",
      "[[-10 -61   1 -11   2]\n",
      " [-51 -73   5   7 -36]\n",
      " [  6 -81   7 -42 -49]\n",
      " [-28 -19  11 -35  -5]\n",
      " [-36  18 -34 -21 -54]]\n",
      "\n",
      " Multiplication\n",
      "[[   0   62    2   42    8]\n",
      " [ 280  474   14    8  405]\n",
      " [  40 1012   60  715  882]\n",
      " [ 645  560  102  954  456]\n",
      " [1120   63 1232 1012 1872]]\n",
      "\n",
      " Division\n",
      "[[0.         0.01612903 2.         0.21428571 2.        ]\n",
      " [0.08928571 0.07594937 3.5        8.         0.2       ]\n",
      " [2.5        0.11956522 2.4        0.23636364 0.22222222]\n",
      " [0.34883721 0.45714286 2.83333333 0.33962264 0.79166667]\n",
      " [0.35714286 7.         0.39285714 0.52272727 0.30769231]]\n",
      "\n",
      " Power\n",
      "[[          0           1           2     4782969          16]\n",
      " [ -733410015           0          49           8 -1054898967]\n",
      " [      10000   871331921      248832   143167269           0]\n",
      " [  -45233233           0    24137569           0  1938398561]\n",
      " [          0        9261           0  1212290145           0]]\n",
      "\n",
      " Less than\n",
      "[[ True  True False  True False]\n",
      " [ True  True False False  True]\n",
      " [False  True False  True  True]\n",
      " [ True  True False  True  True]\n",
      " [ True False  True  True  True]]\n",
      "\n",
      " Greater than\n",
      "[[False False  True False  True]\n",
      " [False False  True  True False]\n",
      " [ True False  True False False]\n",
      " [False False  True False False]\n",
      " [False  True False False False]]\n",
      "\n",
      " Dot Product\n",
      "[[ 417  380  254  446  555]\n",
      " [1262 1735  604 1281 1615]\n",
      " [2107 3090  954 2116 2675]\n",
      " [2952 4445 1304 2951 3735]\n",
      " [3797 5800 1654 3786 4795]]\n"
     ]
    }
   ],
   "source": [
    "# One way\n",
    "array = np.arange(25)\n",
    "array = array.reshape((5, 5))\n",
    "print(array)\n",
    "\n",
    "# another way\n",
    "array0 = np.array([10, 62, 1, 14, 2, 56, 79, 2, 1,\n",
    "                   45, 4, 92, 5, 55, 63, 43, 35, 6, \n",
    "                   53, 24, 56, 3, 56, 44, 78])\n",
    "array0 = array0.reshape((5,5))\n",
    "print(\"\\n\", array0)\n",
    "\n",
    "print(\"\\n\",'Addition')\n",
    "print(array + array0)\n",
    "\n",
    "print(\"\\n\",'Subtraction')\n",
    "print(array - array0)\n",
    "\n",
    "print(\"\\n\",'Multiplication')\n",
    "print(array * array0)\n",
    "\n",
    "print(\"\\n\",'Division')\n",
    "print(array / array0)\n",
    "\n",
    "print(\"\\n\",'Power')\n",
    "print(array ** array0)\n",
    "\n",
    "print(\"\\n\",'Less than')\n",
    "print(array < array0)\n",
    "\n",
    "print(\"\\n\",'Greater than')\n",
    "print(array > array0)\n",
    "\n",
    "print(\"\\n\",'Dot Product')\n",
    "print(array.dot(array0))"
   ]
  },
  {
   "cell_type": "markdown",
   "metadata": {},
   "source": [
    "## Array specific operators"
   ]
  },
  {
   "cell_type": "code",
   "execution_count": 45,
   "metadata": {},
   "outputs": [
    {
     "name": "stdout",
     "output_type": "stream",
     "text": [
      "[0 1 2 3 4 5 6 7 8 9]\n",
      "sum:  45\n",
      "min:  0\n",
      "max:  9\n",
      "\n",
      " [ 0  1  3  6 10 15 21 28 36 45]\n"
     ]
    }
   ],
   "source": [
    "import numpy as np\n",
    "# dot, sum, min, max, cumsum\n",
    "a = np.arange(10)\n",
    "print(a)\n",
    "\n",
    "print(\"sum: \", a.sum()) \n",
    "print(\"min: \", a.min()) \n",
    "print(\"max: \", a.max()) \n",
    "print(\"\\n\", a.cumsum()) # Elementwise addition\n",
    "\n"
   ]
  },
  {
   "cell_type": "markdown",
   "metadata": {},
   "source": [
    "## Multidimentional Array Slicing\n"
   ]
  },
  {
   "cell_type": "code",
   "execution_count": 31,
   "metadata": {},
   "outputs": [
    {
     "name": "stdout",
     "output_type": "stream",
     "text": [
      "[12 13 14]\n",
      "[16 21 26]\n",
      "[12 17 22 27 32]\n",
      "Matrix Type:  <class 'numpy.ndarray'>\n",
      "Data Type:  int32\n",
      "Size:  25\n",
      "Shape:  (5, 5)\n",
      "Dimension:  2\n"
     ]
    }
   ],
   "source": [
    "print(matrix[0, 1:4]) # row[0] and slice index[1] to index[3] not index[4]\n",
    "print(matrix[1:4, 0]) # index[1] to index[3] from column[0]\n",
    "print(matrix[:, 1]) # all rown and column[1]\n",
    "\n",
    "\n",
    "print(\"Matrix Type: \", type(matrix)) \n",
    "print(\"Data Type: \", matrix.dtype) \n",
    "print(\"Size: \", matrix.size) #number of Elements \n",
    "print(\"Shape: \", matrix.shape) # rows x columns\n",
    "print(\"Dimension: \", matrix.ndim) # number of dimensions"
   ]
  },
  {
   "cell_type": "markdown",
   "metadata": {},
   "source": [
    "## Body mass index[BMI] Calculation"
   ]
  },
  {
   "cell_type": "code",
   "execution_count": 8,
   "metadata": {},
   "outputs": [
    {
     "name": "stdout",
     "output_type": "stream",
     "text": [
      "[23.28633933 27.81366985 23.44192841 24.12923177 27.9845679  23.32503395]\n"
     ]
    }
   ],
   "source": [
    "BMI = np_weight/np_height**2\n",
    "print(BMI)"
   ]
  },
  {
   "cell_type": "markdown",
   "metadata": {},
   "source": [
    "## Subsetting"
   ]
  },
  {
   "cell_type": "code",
   "execution_count": 14,
   "metadata": {},
   "outputs": [
    {
     "data": {
      "text/plain": [
       "array([ True,  True,  True,  True,  True,  True])"
      ]
     },
     "execution_count": 14,
     "metadata": {},
     "output_type": "execute_result"
    }
   ],
   "source": [
    "# For a boolean response\n",
    "BMI > 23"
   ]
  },
  {
   "cell_type": "code",
   "execution_count": 13,
   "metadata": {},
   "outputs": [
    {
     "data": {
      "text/plain": [
       "array([23.28633933, 27.81366985, 23.44192841, 24.12923177, 27.9845679 ,\n",
       "       23.32503395])"
      ]
     },
     "execution_count": 13,
     "metadata": {},
     "output_type": "execute_result"
    }
   ],
   "source": [
    "# Print only those observations above 23\n",
    "BMI[BMI > 23]"
   ]
  },
  {
   "cell_type": "markdown",
   "metadata": {},
   "source": [
    "## Excercise"
   ]
  },
  {
   "cell_type": "code",
   "execution_count": 15,
   "metadata": {},
   "outputs": [
    {
     "name": "stdout",
     "output_type": "stream",
     "text": [
      "[81.43 92.13 80.23 88.95 90.67 82.44]\n"
     ]
    }
   ],
   "source": [
    "weight_kg = [81.43, 92.13, 80.23, 88.95, 90.67, 82.44]\n",
    "\n",
    "import numpy as np\n",
    "\n",
    "# Create a numpy array np_weight_kg from weight_kg\n",
    "np_weight_kg = np.array(weight_kg)  \n",
    "# Create np_weight_lbs from np_weight_kg\n",
    "np_weight_lbs= np_weight_kg\n",
    "\n",
    "# Print out np_weight_lbs\n",
    "print(np_weight_lbs)"
   ]
  },
  {
   "cell_type": "code",
   "execution_count": null,
   "metadata": {},
   "outputs": [],
   "source": []
  }
 ],
 "metadata": {
  "kernelspec": {
   "display_name": "Python 3",
   "language": "python",
   "name": "python3"
  },
  "language_info": {
   "codemirror_mode": {
    "name": "ipython",
    "version": 3
   },
   "file_extension": ".py",
   "mimetype": "text/x-python",
   "name": "python",
   "nbconvert_exporter": "python",
   "pygments_lexer": "ipython3",
   "version": "3.7.0"
  }
 },
 "nbformat": 4,
 "nbformat_minor": 2
}
