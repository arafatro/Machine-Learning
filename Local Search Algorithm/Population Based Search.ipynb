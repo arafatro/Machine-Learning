{
 "cells": [
  {
   "cell_type": "code",
   "execution_count": 23,
   "metadata": {},
   "outputs": [
    {
     "data": {
      "text/plain": [
       "True"
      ]
     },
     "execution_count": 23,
     "metadata": {},
     "output_type": "execute_result"
    }
   ],
   "source": [
    "import numpy as np\n",
    "import math\n",
    "import random\n",
    "\n",
    "def isGoal(x):\n",
    "    for i in range(x.shape[0]-1):\n",
    "        for j in range(i+1,x.shape[0]):\n",
    "            if x[i]==x[j]:\n",
    "                #print(\"Column Conflict \"+str(i)+\" \"+str(j))\n",
    "                return False\n",
    "            if abs(i-j) == abs(x[i]-x[j]):\n",
    "                #print(\"Diagonal Conflict \"+str(i)+\" \"+str(j))\n",
    "                return False\n",
    "    return True\n",
    "\n",
    "\n",
    "isGoal(np.asarray([1,3,0,2]))"
   ]
  },
  {
   "cell_type": "code",
   "execution_count": 24,
   "metadata": {},
   "outputs": [
    {
     "name": "stdout",
     "output_type": "stream",
     "text": [
      "[0. 3. 2. 2.]\n"
     ]
    }
   ],
   "source": [
    "def generateRandomly(n):\n",
    "    x=np.zeros(n)\n",
    "    for i in range(x.shape[0]):\n",
    "        x[i]=random.randint(0,n-1)\n",
    "    return x\n",
    "s=generateRandomly(4)\n",
    "print(s)"
   ]
  },
  {
   "cell_type": "code",
   "execution_count": 138,
   "metadata": {},
   "outputs": [
    {
     "data": {
      "text/plain": [
       "'Failure'"
      ]
     },
     "execution_count": 138,
     "metadata": {},
     "output_type": "execute_result"
    }
   ],
   "source": [
    "\n",
    "def MonteCarlo(n,maxIter):\n",
    "    \n",
    "    for i in range(maxIter):\n",
    "        s=generateRandomly(n)\n",
    "        if isGoal(s):\n",
    "            return s\n",
    "    return \"Failure\"\n",
    "    \n",
    "MonteCarlo(10,900000)"
   ]
  },
  {
   "cell_type": "code",
   "execution_count": 40,
   "metadata": {},
   "outputs": [
    {
     "data": {
      "text/plain": [
       "array([0, 1, 0, 3])"
      ]
     },
     "execution_count": 40,
     "metadata": {},
     "output_type": "execute_result"
    }
   ],
   "source": [
    "import copy\n",
    "def generateRandomNeighbor(s):\n",
    "    sprime=copy.deepcopy(s)\n",
    "    # make some random changes in s\n",
    "    sprime[random.randint(0,s.shape[0]-1)]=random.randint(0,s.shape[0]-1)\n",
    "    return sprime\n",
    "\n",
    "generateRandomNeighbor(np.array([0,1,2,3]))"
   ]
  },
  {
   "cell_type": "code",
   "execution_count": 134,
   "metadata": {},
   "outputs": [
    {
     "data": {
      "text/plain": [
       "'Failure'"
      ]
     },
     "execution_count": 134,
     "metadata": {},
     "output_type": "execute_result"
    }
   ],
   "source": [
    "def RandomNeighborSearch(n,maxIter):\n",
    "    s = generateRandomly(n)\n",
    "    if isGoal(s):\n",
    "        return s\n",
    "    for i in range(maxIter):\n",
    "        sprime = generateRandomNeighbor(s)\n",
    "        if isGoal(sprime):\n",
    "            return sprime\n",
    "        s=sprime\n",
    "    return \"Failure\"\n",
    "\n",
    "RandomNeighborSearch(10,1500000)"
   ]
  },
  {
   "cell_type": "code",
   "execution_count": 19,
   "metadata": {},
   "outputs": [
    {
     "data": {
      "text/plain": [
       "['aaa', 'abc', 'fffff', 'pqrs', 'za']"
      ]
     },
     "execution_count": 19,
     "metadata": {},
     "output_type": "execute_result"
    }
   ],
   "source": [
    "def lencomp(s):\n",
    "    return -len(s)\n",
    "\n",
    "l=['abc','fffff','za','pqrs','aaa']\n",
    "l.sort()\n",
    "l"
   ]
  },
  {
   "cell_type": "code",
   "execution_count": 20,
   "metadata": {},
   "outputs": [
    {
     "data": {
      "text/plain": [
       "['fffff', 'pqrs', 'aaa', 'abc', 'za']"
      ]
     },
     "execution_count": 20,
     "metadata": {},
     "output_type": "execute_result"
    }
   ],
   "source": [
    "l.sort(key=lencomp)\n",
    "l"
   ]
  },
  {
   "cell_type": "code",
   "execution_count": 9,
   "metadata": {},
   "outputs": [],
   "source": [
    "a=[5,6,7,6,12,3,4,5]"
   ]
  },
  {
   "cell_type": "code",
   "execution_count": 12,
   "metadata": {},
   "outputs": [],
   "source": [
    "a.sort(reverse=True)"
   ]
  },
  {
   "cell_type": "code",
   "execution_count": 13,
   "metadata": {},
   "outputs": [
    {
     "data": {
      "text/plain": [
       "[12, 7, 6, 6, 5, 5, 4, 3]"
      ]
     },
     "execution_count": 13,
     "metadata": {},
     "output_type": "execute_result"
    }
   ],
   "source": [
    "a"
   ]
  },
  {
   "cell_type": "code",
   "execution_count": 41,
   "metadata": {},
   "outputs": [
    {
     "ename": "NameError",
     "evalue": "name 'quality' is not defined",
     "output_type": "error",
     "traceback": [
      "\u001b[1;31m---------------------------------------------------------------------------\u001b[0m",
      "\u001b[1;31mNameError\u001b[0m                                 Traceback (most recent call last)",
      "\u001b[1;32m<ipython-input-41-98317dd4948d>\u001b[0m in \u001b[0;36m<module>\u001b[1;34m()\u001b[0m\n\u001b[0;32m     23\u001b[0m                 \u001b[1;32mreturn\u001b[0m \u001b[0ms\u001b[0m\u001b[1;33m\u001b[0m\u001b[0m\n\u001b[0;32m     24\u001b[0m     \u001b[1;32mreturn\u001b[0m \u001b[1;34m\"Failure\"\u001b[0m\u001b[1;33m\u001b[0m\u001b[0m\n\u001b[1;32m---> 25\u001b[1;33m \u001b[0mpopulationBasedSearch\u001b[0m\u001b[1;33m(\u001b[0m\u001b[1;36m4\u001b[0m\u001b[1;33m,\u001b[0m\u001b[1;36m100\u001b[0m\u001b[1;33m,\u001b[0m\u001b[1;36m10\u001b[0m\u001b[1;33m)\u001b[0m\u001b[1;33m\u001b[0m\u001b[0m\n\u001b[0m",
      "\u001b[1;32m<ipython-input-41-98317dd4948d>\u001b[0m in \u001b[0;36mpopulationBasedSearch\u001b[1;34m(n, maxGen, populationSize)\u001b[0m\n\u001b[0;32m     14\u001b[0m         \u001b[1;32mfor\u001b[0m \u001b[0ms\u001b[0m \u001b[1;32min\u001b[0m \u001b[0mP\u001b[0m\u001b[1;33m:\u001b[0m\u001b[1;33m\u001b[0m\u001b[0m\n\u001b[0;32m     15\u001b[0m             \u001b[0msprime\u001b[0m\u001b[1;33m=\u001b[0m\u001b[0mgenerateRandomNeighbor\u001b[0m\u001b[1;33m(\u001b[0m\u001b[0ms\u001b[0m\u001b[1;33m)\u001b[0m\u001b[1;33m\u001b[0m\u001b[0m\n\u001b[1;32m---> 16\u001b[1;33m             \u001b[1;32mif\u001b[0m \u001b[0mquality\u001b[0m\u001b[1;33m(\u001b[0m\u001b[0msprime\u001b[0m\u001b[1;33m)\u001b[0m \u001b[1;33m<=\u001b[0m \u001b[0mquality\u001b[0m\u001b[1;33m(\u001b[0m\u001b[0ms\u001b[0m\u001b[1;33m)\u001b[0m\u001b[1;33m:\u001b[0m\u001b[1;33m\u001b[0m\u001b[0m\n\u001b[0m\u001b[0;32m     17\u001b[0m                 \u001b[0mPprime\u001b[0m\u001b[1;33m.\u001b[0m\u001b[0mappend\u001b[0m\u001b[1;33m(\u001b[0m\u001b[0msprime\u001b[0m\u001b[1;33m)\u001b[0m\u001b[1;33m\u001b[0m\u001b[0m\n\u001b[0;32m     18\u001b[0m             \u001b[1;32melse\u001b[0m\u001b[1;33m:\u001b[0m\u001b[1;33m\u001b[0m\u001b[0m\n",
      "\u001b[1;31mNameError\u001b[0m: name 'quality' is not defined"
     ]
    }
   ],
   "source": [
    "def populationBasedSearch(n,maxGen,populationSize):\n",
    "    # initialization\n",
    "    P=[]\n",
    "    for i in range(populationSize):\n",
    "        P.append(generateRandomly(n))\n",
    "    for s in P:\n",
    "        if isGoal(s):\n",
    "            return s\n",
    "    \n",
    "    # now start the algorithm\n",
    "    for i in range(maxGen):\n",
    "        Pprime=[]\n",
    "        # now we have to populate Pprime using P\n",
    "        for s in P:\n",
    "            sprime=generateRandomNeighbor(s)\n",
    "            if quality(sprime) <= quality(s):\n",
    "                Pprime.append(sprime)\n",
    "            else:\n",
    "                Pprime.append(s)\n",
    "        P=Pprime    \n",
    "        for s in P:\n",
    "            if isGoal(s):\n",
    "                return s\n",
    "    return \"Failure\"\n",
    "populationBasedSearch(4,100,10)"
   ]
  },
  {
   "cell_type": "code",
   "execution_count": null,
   "metadata": {},
   "outputs": [],
   "source": []
  }
 ],
 "metadata": {
  "kernelspec": {
   "display_name": "Python 3",
   "language": "python",
   "name": "python3"
  },
  "language_info": {
   "codemirror_mode": {
    "name": "ipython",
    "version": 3
   },
   "file_extension": ".py",
   "mimetype": "text/x-python",
   "name": "python",
   "nbconvert_exporter": "python",
   "pygments_lexer": "ipython3",
   "version": "3.7.0"
  }
 },
 "nbformat": 4,
 "nbformat_minor": 2
}
