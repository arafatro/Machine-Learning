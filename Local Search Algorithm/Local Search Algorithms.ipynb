{
 "cells": [
  {
   "cell_type": "code",
   "execution_count": 38,
   "metadata": {},
   "outputs": [
    {
     "data": {
      "text/plain": [
       "True"
      ]
     },
     "execution_count": 38,
     "metadata": {},
     "output_type": "execute_result"
    }
   ],
   "source": [
    "import numpy as np\n",
    "import math\n",
    "import random\n",
    "\n",
    "def isGoal(x):\n",
    "    for i in range(x.shape[0]-1):\n",
    "        for j in range(i+1,x.shape[0]):\n",
    "            if x[i]==x[j]:\n",
    "                #print(\"Column Conflict \"+str(i)+\" \"+str(j))\n",
    "                return False\n",
    "               \n",
    "            if abs(i-j) == abs(x[i]-x[j]):\n",
    "                #print(\"Diagonal Conflict \"+str(i)+\" \"+str(j))\n",
    "                return False\n",
    "              \n",
    "    return True\n",
    "\n",
    "\n",
    "isGoal(np.asarray([1,3,0,2]))"
   ]
  },
  {
   "cell_type": "code",
   "execution_count": 2,
   "metadata": {},
   "outputs": [
    {
     "name": "stdout",
     "output_type": "stream",
     "text": [
      "[2. 2. 0. 1.]\n"
     ]
    }
   ],
   "source": [
    "def generateRandomly(n):\n",
    "    x=np.zeros(n)\n",
    "    for i in range(x.shape[0]):\n",
    "        x[i]=random.randint(0,n-1)\n",
    "    return x\n",
    "s=generateRandomly(4)\n",
    "print(s)"
   ]
  },
  {
   "cell_type": "code",
   "execution_count": 6,
   "metadata": {},
   "outputs": [
    {
     "data": {
      "text/plain": [
       "array([2., 0., 3., 1.])"
      ]
     },
     "execution_count": 6,
     "metadata": {},
     "output_type": "execute_result"
    }
   ],
   "source": [
    "\n",
    "def MonteCarlo(n,maxIter):\n",
    "    \n",
    "    for i in range(maxIter):\n",
    "        s=generateRandomly(n)\n",
    "        if isGoal(s):\n",
    "            return s\n",
    "    return \"Failure\"\n",
    "    \n",
    "MonteCarlo(4,1500)"
   ]
  },
  {
   "cell_type": "code",
   "execution_count": 7,
   "metadata": {},
   "outputs": [
    {
     "data": {
      "text/plain": [
       "array([0, 1, 0, 3])"
      ]
     },
     "execution_count": 7,
     "metadata": {},
     "output_type": "execute_result"
    }
   ],
   "source": [
    "import copy\n",
    "def generateRandomNeighbor(s):\n",
    "    sprime=copy.deepcopy(s)\n",
    "    # make some random changes in s\n",
    "    sprime[random.randint(0,s.shape[0]-1)]=random.randint(0,s.shape[0]-1)\n",
    "    return sprime\n",
    "\n",
    "generateRandomNeighbor(np.array([0,1,2,3]))"
   ]
  },
  {
   "cell_type": "code",
   "execution_count": 9,
   "metadata": {},
   "outputs": [
    {
     "data": {
      "text/plain": [
       "'Failure'"
      ]
     },
     "execution_count": 9,
     "metadata": {},
     "output_type": "execute_result"
    }
   ],
   "source": [
    "def RandomNeighborSearch(n,maxIter):\n",
    "    s = generateRandomly(n)\n",
    "    if isGoal(s):\n",
    "        return s\n",
    "    for i in range(maxIter):\n",
    "        sprime = generateRandomNeighbor(s)\n",
    "        if isGoal(sprime):\n",
    "            return sprime\n",
    "            s=sprime\n",
    "    return \"Failure\"\n",
    "\n",
    "RandomNeighborSearch(4,1500)"
   ]
  },
  {
   "cell_type": "code",
   "execution_count": 39,
   "metadata": {},
   "outputs": [],
   "source": [
    "def quality(x):\n",
    "    count=0\n",
    "    for i in range(x.shape[0]-1):\n",
    "        for j in range(i+1,x.shape[0]):\n",
    "            if x[i]==x[j]:\n",
    "                #print(\"Column Conflict \"+str(i)+\" \"+str(j))\n",
    "                #return False\n",
    "                count=count+1\n",
    "            if abs(i-j) == abs(x[i]-x[j]):\n",
    "                #print(\"Diagonal Conflict \"+str(i)+\" \"+str(j))\n",
    "                #return False\n",
    "                count=count+1\n",
    "    return count"
   ]
  },
  {
   "cell_type": "code",
   "execution_count": null,
   "metadata": {},
   "outputs": [],
   "source": []
  },
  {
   "cell_type": "code",
   "execution_count": 43,
   "metadata": {},
   "outputs": [
    {
     "data": {
      "text/plain": [
       "array([10., 12.,  7.,  1., 11.,  2.,  5., 19.,  8., 18., 14.,  3., 13.,\n",
       "       16.,  9., 17.,  6.,  4.,  0., 15.])"
      ]
     },
     "execution_count": 43,
     "metadata": {},
     "output_type": "execute_result"
    }
   ],
   "source": [
    "def HillDescent(n,maxIter):\n",
    "    s = generateRandomly(n)\n",
    "    if isGoal(s):\n",
    "        return s\n",
    "    for i in range(maxIter):\n",
    "        sprime = generateRandomNeighbor(s)\n",
    "        if isGoal(sprime):\n",
    "            return sprime\n",
    "        if quality(sprime)<=quality(s):\n",
    "            s=sprime\n",
    "    return \"Failure\"\n",
    "\n",
    "HillDescent(20,100000)"
   ]
  },
  {
   "cell_type": "code",
   "execution_count": null,
   "metadata": {},
   "outputs": [],
   "source": []
  }
 ],
 "metadata": {
  "kernelspec": {
   "display_name": "Python 3",
   "language": "python",
   "name": "python3"
  },
  "language_info": {
   "codemirror_mode": {
    "name": "ipython",
    "version": 3
   },
   "file_extension": ".py",
   "mimetype": "text/x-python",
   "name": "python",
   "nbconvert_exporter": "python",
   "pygments_lexer": "ipython3",
   "version": "3.7.0"
  }
 },
 "nbformat": 4,
 "nbformat_minor": 2
}
