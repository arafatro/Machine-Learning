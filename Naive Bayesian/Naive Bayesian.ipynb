{
 "cells": [
  {
   "cell_type": "code",
   "execution_count": 1,
   "metadata": {},
   "outputs": [],
   "source": [
    "import pandas as pn\n",
    "import numpy as np\n",
    "import random\n",
    "import math\n",
    "import sklearn.neighbors\n",
    "x=pn.read_csv(\"X.csv\",header=None)\n",
    "x=np.asarray(x)\n",
    "y=pn.read_csv(\"Y.csv\",header=None)\n",
    "y=np.asarray(y)"
   ]
  },
  {
   "cell_type": "code",
   "execution_count": 2,
   "metadata": {},
   "outputs": [],
   "source": [
    "digit=x[1600,:]\n",
    "digitim=np.reshape(digit,(20,20))"
   ]
  },
  {
   "cell_type": "code",
   "execution_count": 41,
   "metadata": {},
   "outputs": [
    {
     "data": {
      "image/png": "[encoded data removed]",
      "text/plain": [
       "<Figure size 432x288 with 2 Axes>"
      ]
     },
     "metadata": {
      "needs_background": "light"
     },
     "output_type": "display_data"
    },
    {
     "name": "stdout",
     "output_type": "stream",
     "text": [
      "2\n"
     ]
    },
    {
     "data": {
      "text/plain": [
       "3200"
      ]
     },
     "execution_count": 41,
     "metadata": {},
     "output_type": "execute_result"
    }
   ],
   "source": [
    "var=random.randrange(5000)\n",
    "import matplotlib.pyplot as plt \n",
    "plt.imshow((np.reshape(x[var,:],(20,20))).T)\n",
    "plt.colorbar()\n",
    "plt.show()\n",
    "print(y[1000,0])\n",
    "var"
   ]
  },
  {
   "cell_type": "code",
   "execution_count": 42,
   "metadata": {},
   "outputs": [],
   "source": [
    "#clf= sklearn.linear_model.LogisticRegression()\n",
    "clf=sklearn.neighbors.KNeighborsClassifier()"
   ]
  },
  {
   "cell_type": "code",
   "execution_count": 43,
   "metadata": {},
   "outputs": [
    {
     "data": {
      "text/plain": [
       "KNeighborsClassifier(algorithm='auto', leaf_size=30, metric='minkowski',\n",
       "           metric_params=None, n_jobs=1, n_neighbors=5, p=2,\n",
       "           weights='uniform')"
      ]
     },
     "execution_count": 43,
     "metadata": {},
     "output_type": "execute_result"
    }
   ],
   "source": [
    "clf.fit(x,y[:,0])"
   ]
  },
  {
   "cell_type": "code",
   "execution_count": 44,
   "metadata": {},
   "outputs": [
    {
     "name": "stdout",
     "output_type": "stream",
     "text": [
      "[6]\n"
     ]
    }
   ],
   "source": [
    "print(clf.predict(np.reshape(x[var,:],(1,400))))"
   ]
  },
  {
   "cell_type": "code",
   "execution_count": 45,
   "metadata": {},
   "outputs": [
    {
     "data": {
      "text/plain": [
       "array([[0, 0, 0, ..., 0, 0, 0],\n",
       "       [0, 0, 0, ..., 0, 0, 0],\n",
       "       [0, 0, 0, ..., 0, 0, 0],\n",
       "       ...,\n",
       "       [0, 0, 0, ..., 0, 0, 0],\n",
       "       [0, 0, 0, ..., 0, 0, 0],\n",
       "       [0, 0, 0, ..., 0, 0, 0]], dtype=int64)"
      ]
     },
     "execution_count": 45,
     "metadata": {},
     "output_type": "execute_result"
    }
   ],
   "source": [
    "test=np.array(x[var,:])\n",
    "x"
   ]
  },
  {
   "cell_type": "code",
   "execution_count": 46,
   "metadata": {},
   "outputs": [],
   "source": [
    "def KNN(x,y,test):\n",
    "    shortestPath=[]\n",
    "    k=0\n",
    "  #  for i in range(len(x)):\n",
    "   #     for j in range(400):\n",
    "    #        closestPoint=math.sqrt(math.pow(test[j]-x[i][j],2)+math.pow(test[j]-x[i][j],2))\n",
    "     #       if(closestPoint!=0):\n",
    "      #          shortestPath.append([closestPoint,i])\n",
    "      #  k=k+1\n",
    "    for i in range (0, x.shape[0]):\n",
    "        shortest = (x[i,:] - test) ** 2 \n",
    "        shortest = math.sqrt(sum(shortest))\n",
    "        \n",
    "        summ = [y[i,0], shortest]\n",
    "        shortestPath.insert(i, summ)    \n",
    "    return shortestPath"
   ]
  },
  {
   "cell_type": "code",
   "execution_count": 47,
   "metadata": {},
   "outputs": [],
   "source": [
    "shortestPath=KNN(x,y,test)\n",
    "def sortSecond(val): \n",
    "    return val[1]\n",
    "\n",
    "shortest=sorted(shortestPath,key=sortSecond)"
   ]
  },
  {
   "cell_type": "code",
   "execution_count": 48,
   "metadata": {},
   "outputs": [],
   "source": [
    "#shortest=sorted(shortestPath)\n",
    "#shortest=shortestPath"
   ]
  },
  {
   "cell_type": "code",
   "execution_count": 49,
   "metadata": {},
   "outputs": [
    {
     "data": {
      "text/plain": [
       "[6]"
      ]
     },
     "execution_count": 49,
     "metadata": {},
     "output_type": "execute_result"
    }
   ],
   "source": [
    "shortestPath=shortest[0]\n",
    "digit=shortestPath[:1]\n",
    "digit"
   ]
  },
  {
   "cell_type": "markdown",
   "metadata": {},
   "source": [
    "Naive Bayesian starts from here "
   ]
  },
  {
   "cell_type": "code",
   "execution_count": null,
   "metadata": {},
   "outputs": [],
   "source": [
    "def Pr():\n",
    "    \n",
    "    return"
   ]
  },
  {
   "cell_type": "code",
   "execution_count": 27,
   "metadata": {},
   "outputs": [],
   "source": [
    "def NaiveBayesian(x):\n",
    "    Y1=0\n",
    "    countt=[]\n",
    "    tcount=0\n",
    "    summ=0\n",
    "    \n",
    "    for i in range(400):\n",
    "        for j in range(500):\n",
    "            tcount=x[j][i]+tcount\n",
    "            \n",
    "        countt.append(tcount)      \n",
    "            \n",
    "            \n",
    "   # for i in range(400):\n",
    "    #    for j in range(500):\n",
    "     #       Y1=Pr(x[j][i])\n",
    "        \n",
    "        \n",
    "    return countt"
   ]
  },
  {
   "cell_type": "markdown",
   "metadata": {},
   "source": []
  },
  {
   "cell_type": "code",
   "execution_count": 29,
   "metadata": {},
   "outputs": [
    {
     "ename": "TypeError",
     "evalue": "NaiveBayesian() takes 0 positional arguments but 1 was given",
     "output_type": "error",
     "traceback": [
      "\u001b[1;31m---------------------------------------------------------------------------\u001b[0m",
      "\u001b[1;31mTypeError\u001b[0m                                 Traceback (most recent call last)",
      "\u001b[1;32m<ipython-input-29-1e686289954f>\u001b[0m in \u001b[0;36m<module>\u001b[1;34m()\u001b[0m\n\u001b[1;32m----> 1\u001b[1;33m \u001b[0mcountt\u001b[0m\u001b[1;33m=\u001b[0m\u001b[0mNaiveBayesian\u001b[0m\u001b[1;33m(\u001b[0m\u001b[0mx\u001b[0m\u001b[1;33m)\u001b[0m\u001b[1;33m\u001b[0m\u001b[0m\n\u001b[0m\u001b[0;32m      2\u001b[0m \u001b[0mcountt\u001b[0m\u001b[1;33m\u001b[0m\u001b[0m\n",
      "\u001b[1;31mTypeError\u001b[0m: NaiveBayesian() takes 0 positional arguments but 1 was given"
     ]
    }
   ],
   "source": [
    "countt=NaiveBayesian(x)\n",
    "countt\n"
   ]
  },
  {
   "cell_type": "code",
   "execution_count": null,
   "metadata": {},
   "outputs": [],
   "source": []
  }
 ],
 "metadata": {
  "kernelspec": {
   "display_name": "Python 3",
   "language": "python",
   "name": "python3"
  },
  "language_info": {
   "codemirror_mode": {
    "name": "ipython",
    "version": 3
   },
   "file_extension": ".py",
   "mimetype": "text/x-python",
   "name": "python",
   "nbconvert_exporter": "python",
   "pygments_lexer": "ipython3",
   "version": "3.7.0"
  }
 },
 "nbformat": 4,
 "nbformat_minor": 2
}
