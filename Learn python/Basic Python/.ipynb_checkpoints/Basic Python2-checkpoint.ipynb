{
 "cells": [
  {
   "cell_type": "markdown",
   "metadata": {},
   "source": [
    "## 1. Print"
   ]
  },
  {
   "cell_type": "code",
   "execution_count": 1,
   "metadata": {},
   "outputs": [
    {
     "name": "stdout",
     "output_type": "stream",
     "text": [
      "Mummy\"s Boy\n"
     ]
    }
   ],
   "source": [
    "print(\"Mummy\\\"s Boy\") #for using extra Quotation mark"
   ]
  },
  {
   "cell_type": "markdown",
   "metadata": {},
   "source": [
    "## 2. Comments"
   ]
  },
  {
   "cell_type": "code",
   "execution_count": 8,
   "metadata": {},
   "outputs": [
    {
     "name": "stdout",
     "output_type": "stream",
     "text": [
      "Comments are given below here: \n"
     ]
    }
   ],
   "source": [
    "# This prints out a string\n",
    "'''\n",
    "This is also a comments syntax for several lines of codes\n",
    "'''\n",
    "print(\"Comments are given below here: \")\n"
   ]
  },
  {
   "cell_type": "markdown",
   "metadata": {},
   "source": [
    "## 3. Working with Strings"
   ]
  },
  {
   "cell_type": "code",
   "execution_count": 2,
   "metadata": {},
   "outputs": [
    {
     "name": "stdout",
     "output_type": "stream",
     "text": [
      "United International University\n",
      "UNITED INTERNATIONAL UNIVERSITY\n",
      "Check if it is upper!?: False\n",
      "Casting as upper: True\n",
      "Index: 19\n",
      "Length: 31\n",
      "U\n",
      "American International University\n"
     ]
    }
   ],
   "source": [
    "uniName = \"United International University\" #uniName is a container, you can store any(int, float, strings) types of temp values\n",
    "print(uniName)\n",
    "print(uniName.upper()) #convert the string to upper case and same as for lower\n",
    "\n",
    "print(\"Check if it is upper!?:\",uniName.isupper())\n",
    "print(\"Casting as upper:\",uniName.upper().isupper())\n",
    "print(\"Index:\", uniName.index(\"l\")) #printing out index values\n",
    "\n",
    "print(\"Length:\",len(uniName)) #printing out the length of the string\n",
    "print(uniName[0]) #print out index[0]\n",
    "\n",
    "print(uniName.replace(\"United\", \"American\")) #replacing old name by new name"
   ]
  },
  {
   "cell_type": "markdown",
   "metadata": {},
   "source": [
    "## 4. Working with numbers"
   ]
  },
  {
   "cell_type": "code",
   "execution_count": 1,
   "metadata": {},
   "outputs": [
    {
     "name": "stdout",
     "output_type": "stream",
     "text": [
      "5 is your token numer\n",
      "125\n",
      "5\n"
     ]
    }
   ],
   "source": [
    "num = 5\n",
    "print(str(num) + \" is your token numer\") #casting as string to 'concatenate'\n",
    "print(pow(num, 3)) # try \"abs, min, max, round\", are the same as 'pow'\n",
    "\n",
    "from math import * #import all maths packages\n",
    "num1 = 5.3\n",
    "print(floor(num1)) #same as for \"ceil, sqrt\"\n"
   ]
  },
  {
   "cell_type": "markdown",
   "metadata": {},
   "source": [
    "## 5. Getting input"
   ]
  },
  {
   "cell_type": "code",
   "execution_count": 2,
   "metadata": {},
   "outputs": [
    {
     "name": "stdout",
     "output_type": "stream",
     "text": [
      "Enter your name: Roman\n",
      "Enter your age: 24\n",
      "Hello Roman, you are 24 years old!!\n"
     ]
    }
   ],
   "source": [
    "name = input(\"Enter your name: \") #user input for name\n",
    "age = input(\"Enter your age: \") #user input for age\n",
    "\n",
    "print(\"Hello \"+ name +\",\"+ \" you are \" + age +\" years old!!\")"
   ]
  },
  {
   "cell_type": "markdown",
   "metadata": {},
   "source": [
    "## 6. Basic Calculator"
   ]
  },
  {
   "cell_type": "code",
   "execution_count": 82,
   "metadata": {},
   "outputs": [
    {
     "name": "stdout",
     "output_type": "stream",
     "text": [
      "Enter your 1st number: 23\n",
      "Enter your 2nd number: 4.21\n",
      "Your result is:  27.21\n"
     ]
    }
   ],
   "source": [
    "num1 = input(\"Enter your 1st number: \")\n",
    "num2 = input(\"Enter your 2nd number: \")\n",
    "result = float(num1)+float(num2) #for casting float is better, cause it also take integer\n",
    "print(\"Your result is: \", result)"
   ]
  },
  {
   "cell_type": "markdown",
   "metadata": {},
   "source": [
    "## 7. Let's Play a Games!!"
   ]
  },
  {
   "cell_type": "code",
   "execution_count": 3,
   "metadata": {},
   "outputs": [
    {
     "name": "stdout",
     "output_type": "stream",
     "text": [
      "The color of your dress: Blue\n",
      "Name of the last food you ate: Biriyani\n",
      "Your current name: Roman\n",
      "Roses are Blue\n",
      "Biriyani are huge\n",
      "Your New Name Is: Blue Roman Biriyani\n"
     ]
    }
   ],
   "source": [
    "#This game name is \"MADLIBS\"\n",
    "color = input(\"The color of your dress: \")\n",
    "food = input(\"Name of the last food you ate: \")\n",
    "your_name = input(\"Your current name: \")\n",
    "\n",
    "print(\"Roses are \" + color)\n",
    "print(food + \" are huge\")\n",
    "print(\"Your New Name Is: \"+ color,your_name,food)\n"
   ]
  },
  {
   "cell_type": "markdown",
   "metadata": {},
   "source": [
    "## 8. Lists"
   ]
  },
  {
   "cell_type": "code",
   "execution_count": 87,
   "metadata": {},
   "outputs": [
    {
     "name": "stdout",
     "output_type": "stream",
     "text": [
      "\n",
      " ['Chandler', 'Monica', 'Joey', 'Phoebe', 'Ross']\n",
      "[['Chandler'], ['Monica'], ['Joey'], ['Phoebe'], ['Ross']]\n",
      "\n",
      "Characters are:  ['Chandler', 'Joey', 'Monica', 'Phoebe', 'Ross']\n",
      "\n",
      " ['Chandler', 'Joey', 'Monica', 'Phoebe', 'Ross', 'Rachel'] \n",
      "\n",
      "Chandler\n",
      "Rachel\n",
      "['Joey', 'Monica']\n",
      "['Chandler', 'Joey', 'Monica', 'Phoebe', 'Ross']\n",
      "['Joey', 'Monica', 'Phoebe', 'Ross', 'Rachel']\n",
      "\n",
      " ['Chandler', 'Joey', 'Monica', 'Phoebe', 'Ross', 'Rachel', 1, 2, 3, 4, 5, 6]\n",
      "\n",
      " ['Chandler', 'Joey', 'Monica', 'Phoebe', 'Ross', 'Rachel', 1, 2, 3, 4, 5, 6, 'Janice']\n",
      "\n",
      " ['Chandler', 'Janice', 'Joey', 'Monica', 'Phoebe', 'Ross', 'Rachel', 1, 2, 3, 4, 5, 6, 'Janice']\n",
      "\n",
      "Count:  2\n",
      "\n",
      " ['Chandler', 'Joey', 'Monica', 'Phoebe', 'Ross', 'Rachel', 1, 2, 3, 4, 5, 6, 'Janice']\n",
      "\n",
      " ['Chandler', 'Joey', 'Monica', 'Phoebe', 'Ross', 'Rachel', 1, 2, 3, 4, 5, 6]\n",
      "\n",
      "The show is over:  []\n"
     ]
    }
   ],
   "source": [
    "friends = [\"Chandler\", \"Monica\", \"Joey\", \"Phoebe\", \"Ross\"] #creating lists with strings\n",
    "print(\"\\n\", friends)\n",
    "\n",
    "# you can also write list of lists\n",
    "friend_list = [[\"Chandler\"], [\"Monica\"], [\"Joey\"], [\"Phoebe\"], [\"Ross\"]]\n",
    "print(friend_list)\n",
    "\n",
    "friends.sort() #sorting name \n",
    "print(\"\\nCharacters are: \",friends)\n",
    "\n",
    "friend1 = [\"Rachel\"]\n",
    "new_friend=(friends+friend1)\n",
    "print(\"\\n\", new_friend, \"\\n\") #adding 2 lists\n",
    "\n",
    "print(new_friend[0]) #print index[0] values\n",
    "print(new_friend[-1]) #print from last index\n",
    "print(new_friend[1:3]) #print from index[1] upto index[2] not index[3]\n",
    "print(new_friend[:-1]) #print from start upto second last index\n",
    "print(new_friend[1:]) #print from index[1] to last index\n",
    "\n",
    "friends_number = [1, 2, 3, 4, 5, 6] #creating lists with numbers\n",
    "new_friend.extend(friends_number)\n",
    "print(\"\\n\",new_friend)\n",
    "\n",
    "new_friend.append(\"Janice\")\n",
    "print(\"\\n\",new_friend)\n",
    "\n",
    "new_friend.insert(1, \"Janice\") #replacing Monica by Janice :p \n",
    "print(\"\\n\",new_friend)\n",
    "\n",
    "print(\"\\n Frequency Count: \", new_friend.count(\"Janice\")) #count number of same entries\n",
    "\n",
    "new_friend.remove(\"Janice\") #remove janice from index [1], removes are starts from index[0]\n",
    "print(\"\\n\",new_friend)\n",
    "\n",
    "new_friend.pop() #pop are begins from last index as like now we pop Janice :p \n",
    "print(\"\\n\",new_friend)\n",
    "\n",
    "new_friend.clear()\n",
    "print(\"\\nThe show is over: \", new_friend)\n"
   ]
  },
  {
   "cell_type": "markdown",
   "metadata": {},
   "source": [
    "## 9. Tuples"
   ]
  },
  {
   "cell_type": "code",
   "execution_count": 56,
   "metadata": {},
   "outputs": [
    {
     "name": "stdout",
     "output_type": "stream",
     "text": [
      "(3, 5, 9)\n",
      "[(3, 5, 9), (1, 2, 7), (4, 6, 10)]\n"
     ]
    }
   ],
   "source": [
    "coordinates = (3, 5, 9) #Tuples begins with '()' where lists are written as '[]'\n",
    "print(coordinates) #Tuple object doesn't support item assignment, \"like coordinates[1] = 10\"\n",
    "\n",
    "#But you can write Tuples inside of a lists\n",
    "coordinates1 = [(3,5,9), (1,2,7), (4,6,10)] #But you can't modify this like lists, it's immutable and use for special cases\n",
    "print(coordinates1)\n"
   ]
  },
  {
   "cell_type": "markdown",
   "metadata": {},
   "source": [
    "## 10. Functions"
   ]
  },
  {
   "cell_type": "code",
   "execution_count": 2,
   "metadata": {},
   "outputs": [
    {
     "name": "stdout",
     "output_type": "stream",
     "text": [
      "Hello Easin, You are 24 now\n",
      "Hello Easin, You are 25 now\n"
     ]
    }
   ],
   "source": [
    "def say_hi(name, age):\n",
    "    print(\"Hello \"+name+\",\"+\" You are \"+age+\" now\")\n",
    "    \n",
    "say_hi(\"Easin\", \"24\") # read these all as strings\n",
    "\n",
    "def say_hi1(name, age):\n",
    "    print(\"Hello \"+name+\",\"+\" You are \"+str(age)+\" now\")\n",
    "\n",
    "say_hi1(\"Easin\", 25) #specified separately by casting "
   ]
  },
  {
   "cell_type": "markdown",
   "metadata": {},
   "source": [
    "## 11. Return Statements"
   ]
  },
  {
   "cell_type": "code",
   "execution_count": 74,
   "metadata": {},
   "outputs": [
    {
     "data": {
      "text/plain": [
       "8"
      ]
     },
     "execution_count": 74,
     "metadata": {},
     "output_type": "execute_result"
    }
   ],
   "source": [
    "def cube(num, pow):\n",
    "    return num**pow #number(2) to the power(**) number(3) --> 2^3\n",
    "\n",
    "cube(2,3)\n"
   ]
  },
  {
   "cell_type": "markdown",
   "metadata": {},
   "source": [
    "## 12. If-else Statements"
   ]
  },
  {
   "cell_type": "code",
   "execution_count": 78,
   "metadata": {},
   "outputs": [
    {
     "name": "stdout",
     "output_type": "stream",
     "text": [
      "You're ailing male\n"
     ]
    }
   ],
   "source": [
    "is_male = True #boolean containers \n",
    "is_healthy = False\n",
    "\n",
    "if is_male and is_healthy:\n",
    "    print(\"You're a healthy heighted male\")\n",
    "elif is_male and not(is_healthy):\n",
    "    print(\"You're ailing male\")\n",
    "elif not(is_male) and is_healthy:\n",
    "    print(\"You're a healthy female\")\n",
    "else:\n",
    "    print(\"You're neither healthy or a male\")\n",
    "    \n",
    "    "
   ]
  },
  {
   "cell_type": "markdown",
   "metadata": {},
   "source": [
    "## 13.  If Statements & Comparisons"
   ]
  },
  {
   "cell_type": "code",
   "execution_count": 7,
   "metadata": {},
   "outputs": [
    {
     "name": "stdout",
     "output_type": "stream",
     "text": [
      "max number:  300\n",
      "max number:  232\n"
     ]
    }
   ],
   "source": [
    "def max_num(num1, num2, num3):\n",
    "    #m = True\n",
    "    if(num1>=num2 and num1>=num3): #you can also try \"==\", \"!=\" for your conditions \n",
    "        return num1\n",
    "    elif (num2>=num1 and num2>num3):\n",
    "        return num2\n",
    "    else:\n",
    "        return num3\n",
    "    \n",
    "print(\"max number: \",max_num(300,42,23))\n",
    "print(\"max number: \",max_num(23,42,232))"
   ]
  },
  {
   "cell_type": "markdown",
   "metadata": {},
   "source": [
    "## 14. Building a better Calculator rather than the prev calculator"
   ]
  },
  {
   "cell_type": "code",
   "execution_count": 82,
   "metadata": {},
   "outputs": [
    {
     "name": "stdout",
     "output_type": "stream",
     "text": [
      "Enter your first number: 34\n",
      "Enter the operator: +\n",
      "Enter your second number: 23\n",
      "Sum=  57.0\n"
     ]
    }
   ],
   "source": [
    "num1 = float(input(\"Enter your first number: \"))\n",
    "op = input(\"Enter the operator: \")\n",
    "num2 = float(input(\"Enter your second number: \"))\n",
    "\n",
    "if op == \"+\":\n",
    "    print(\"Sum= \", num1+num2)\n",
    "elif op == \"-\":\n",
    "    print(\"Sub= \", num1-num2)\n",
    "elif op == \"*\":\n",
    "    print(\"Mul= \", num1*num2)\n",
    "elif op == \"/\":\n",
    "    print(\"Div= \", num1/num2)\n",
    "elif op == \"%\":\n",
    "    print(\"Mod= \", num1%num2)\n",
    "else:\n",
    "    print(\"Invalid entries!!\")\n"
   ]
  },
  {
   "cell_type": "markdown",
   "metadata": {},
   "source": [
    "## 15. Dictionaries"
   ]
  },
  {
   "cell_type": "code",
   "execution_count": 88,
   "metadata": {},
   "outputs": [
    {
     "name": "stdout",
     "output_type": "stream",
     "text": [
      "February\n",
      "April\n",
      "Not a valid 'input/key' \n"
     ]
    }
   ],
   "source": [
    "monthConversions = { \n",
    "    \"jan\": \"January\",\n",
    "    2: \"February\",\n",
    "    \"mar\": \"March\",\n",
    "    \"apr\": \"April\",\n",
    "    \"ma\": \"May\"  \n",
    "    }\n",
    "\n",
    "print(monthConversions[2])\n",
    "print(monthConversions[\"apr\"])\n",
    "print(monthConversions.get(\"jun\", \"Not a valid 'input/key' \"))"
   ]
  },
  {
   "cell_type": "markdown",
   "metadata": {},
   "source": [
    "## 16. While Loop"
   ]
  },
  {
   "cell_type": "code",
   "execution_count": 90,
   "metadata": {},
   "outputs": [
    {
     "name": "stdout",
     "output_type": "stream",
     "text": [
      "1\n",
      "2\n",
      "3\n",
      "4\n",
      "5\n",
      "6\n",
      "7\n",
      "8\n",
      "9\n",
      "10\n",
      "Done with loops!!\n"
     ]
    }
   ],
   "source": [
    "i=1\n",
    "while i<=10:\n",
    "    print(i)\n",
    "    i +=1\n",
    "\n",
    "print(\"Done with loops!!\")"
   ]
  },
  {
   "cell_type": "markdown",
   "metadata": {},
   "source": [
    "## 17. Building a Guessing Game"
   ]
  },
  {
   "cell_type": "code",
   "execution_count": 11,
   "metadata": {},
   "outputs": [
    {
     "name": "stdout",
     "output_type": "stream",
     "text": [
      "I moved my arms to the side and dropped the clothcovered items onto the ground out of the way,so I wouldn't land on them and break them, and then closed myeyes in a _________ to prepare for the pain I was bound to feel in the next second.\n",
      "Enter the secret word: ds\n",
      "Enter the secret word: wdw\n",
      "Enter the secret word: sds\n",
      "Enter the secret word: sd\n",
      "Enter the secret word: cringe\n",
      "Congrats, You WIN!!\n"
     ]
    }
   ],
   "source": [
    "print(\"I moved my arms to the side and dropped the cloth \"+ \n",
    "      \"covered items onto the ground out of the way, \"+\n",
    "      \"so I wouldn't land on them and break them, and then closed my \"+\n",
    "      \" eyes in a _________ to prepare for the pain I was bound to feel in the next second.\\n\")\n",
    "secret_word = \"cringe\"\n",
    "guess = \"\"\n",
    "\n",
    "while guess != secret_word:\n",
    "    guess = input(\"Enter the secret word: \")\n",
    "\n",
    "print(\"Congrats, You WIN!!\")"
   ]
  },
  {
   "cell_type": "code",
   "execution_count": 33,
   "metadata": {},
   "outputs": [
    {
     "name": "stdout",
     "output_type": "stream",
     "text": [
      "I moved my arms to the side and dropped the cloth covered items onto the ground out of the way, so I wouldn't land on them and break them, and then closed my  eyes in a _________ to prepare for the pain I was bound to feel in the next second.\n",
      "\n",
      "You can give only 3 entries..\n",
      "\n",
      "Enter the secret word: looks\n",
      "Enter the secret word: cringe\n",
      "Congrats, You win!!\n"
     ]
    }
   ],
   "source": [
    "#set limits for the guesses\n",
    "print(\"I moved my arms to the side and dropped the cloth \"+ \n",
    "      \"covered items onto the ground out of the way, \"+\n",
    "      \"so I wouldn't land on them and break them, and then closed my \"+\n",
    "      \" eyes in a _________ to prepare for the pain I was bound to feel in the next second.\\n\")\n",
    "      \n",
    "secret_word = \"cringe\"\n",
    "guess = \"\"\n",
    "guess_count = 0\n",
    "guess_limit = 3\n",
    "out_of_guesses = True\n",
    "print(\"You can give only 3 entries..\\n\")\n",
    "\n",
    "while guess != secret_word and out_of_guesses:\n",
    "    if guess_count < guess_limit:\n",
    "        guess = input(\"Enter the secret word: \")\n",
    "        guess_count += 1\n",
    "    else: \n",
    "        out_of_guesses = print(\"wrong entries\")\n",
    "        \n",
    "if not(out_of_guesses):\n",
    "    print(\"You're out of guesses limit, You LOOSE!! \")\n",
    "else:\n",
    "    print(\"Congrats, You win!!\")\n"
   ]
  },
  {
   "cell_type": "markdown",
   "metadata": {},
   "source": [
    "## 18. For Loop"
   ]
  },
  {
   "cell_type": "code",
   "execution_count": 38,
   "metadata": {},
   "outputs": [
    {
     "name": "stdout",
     "output_type": "stream",
     "text": [
      "M\n",
      "a\n",
      "c\n",
      "h\n",
      "i\n",
      "n\n",
      "e\n"
     ]
    }
   ],
   "source": [
    "for letter in \"Machine\":\n",
    "    print(letter) #printing out all the letters inside of the string"
   ]
  },
  {
   "cell_type": "code",
   "execution_count": 60,
   "metadata": {},
   "outputs": [
    {
     "name": "stdout",
     "output_type": "stream",
     "text": [
      "Jim\n",
      "Linkon\n",
      "Rifaz\n",
      "Sourav\n",
      "\n",
      "\n",
      "Omee\n",
      "Shakil\n",
      "Sifat\n",
      "Wakil\n"
     ]
    }
   ],
   "source": [
    "friends = [\"Rifaz\", \"Sourav\", \"Linkon\", \"Jim\"]\n",
    "friends.sort()\n",
    "for name in friends:\n",
    "    print(name) #printing out from a list by looping\n",
    "    \n",
    "print(\"\\n\")\n",
    "friends1 = [\"Wakil\", \"Shakil\", \"Omee\", \"Sifat\"]\n",
    "friends1.sort()\n",
    "for name in range(len(friends1)): #printing out by calculating length of the lists\n",
    "    print(friends1[name]) "
   ]
  },
  {
   "cell_type": "code",
   "execution_count": 46,
   "metadata": {},
   "outputs": [
    {
     "name": "stdout",
     "output_type": "stream",
     "text": [
      "0\n",
      "1\n",
      "2\n",
      "3\n",
      "4\n",
      "5\n",
      "6\n",
      "7\n",
      "8\n",
      "9\n",
      "\n",
      " 10\n",
      "\n",
      " 11\n",
      "\n",
      " 12\n",
      "\n",
      " 13\n",
      "\n",
      " 14\n",
      "\n",
      " 15\n",
      "\n",
      " 16\n",
      "\n",
      " 17\n",
      "\n",
      " 18\n"
     ]
    }
   ],
   "source": [
    "for index in range(10):\n",
    "    print(index) #printing out all the numbers in range 0-10\n",
    "    \n",
    "for num in range(10,19): #set the range which will be printed\n",
    "    print(\"\\n\",num) \n",
    "    "
   ]
  },
  {
   "cell_type": "code",
   "execution_count": 61,
   "metadata": {},
   "outputs": [
    {
     "name": "stdout",
     "output_type": "stream",
     "text": [
      "First friend!!\n",
      "Not first freind!!\n",
      "Not first freind!!\n",
      "Not first freind!!\n",
      "Not first freind!!\n"
     ]
    }
   ],
   "source": [
    "friends = [\"Rifaz\", \"Sourav\", \"Linkon\", \"Jim\"]\n",
    "for name in range(5):\n",
    "    if name == 0:\n",
    "        print(\"First friend!!\")\n",
    "    else:\n",
    "        print(\"Not first freind!!\")"
   ]
  },
  {
   "cell_type": "markdown",
   "metadata": {},
   "source": [
    "## 19. Exponent Function"
   ]
  },
  {
   "cell_type": "code",
   "execution_count": 62,
   "metadata": {},
   "outputs": [
    {
     "name": "stdout",
     "output_type": "stream",
     "text": [
      "32\n"
     ]
    }
   ],
   "source": [
    "def raise_to_power(base_num, pow_num):\n",
    "    result =1\n",
    "    for index in range(pow_num):\n",
    "        result = result*base_num\n",
    "    return result\n",
    "\n",
    "print(raise_to_power(2,5)) # base_num^pow_num\n",
    "        "
   ]
  },
  {
   "cell_type": "markdown",
   "metadata": {},
   "source": [
    "## 20.  2D Lists & Nested Loops"
   ]
  },
  {
   "cell_type": "code",
   "execution_count": 4,
   "metadata": {},
   "outputs": [
    {
     "name": "stdout",
     "output_type": "stream",
     "text": [
      "Grid Number:  8 \n",
      "\n",
      "rows are:  [1, 2, 4]\n",
      "columns are:  1\n",
      "columns are:  2\n",
      "columns are:  4\n",
      "rows are:  [3, 5, 8]\n",
      "columns are:  3\n",
      "columns are:  5\n",
      "columns are:  8\n",
      "rows are:  [6, 7, 9]\n",
      "columns are:  6\n",
      "columns are:  7\n",
      "columns are:  9\n"
     ]
    }
   ],
   "source": [
    "grid_number = [ [1,2,4], \n",
    "                [3,5,8], \n",
    "                [6,7,9] ]\n",
    "\n",
    "print(\"Grid Number: \", grid_number[1][2], \"\\n\") #printing out matrices \n",
    "\n",
    "for row in grid_number:\n",
    "    print(\"rows are: \", row)\n",
    "    for col in row:\n",
    "        print(\"columns are: \", col)\n"
   ]
  },
  {
   "cell_type": "markdown",
   "metadata": {},
   "source": [
    "## 21. Building a Translator"
   ]
  },
  {
   "cell_type": "code",
   "execution_count": 7,
   "metadata": {},
   "outputs": [
    {
     "name": "stdout",
     "output_type": "stream",
     "text": [
      "Enter a phrase: Aiub internation UNIVERSITY\n",
      " 'VOWEL'  'vowel'  'vowel' b  'vowel' nt 'vowel' rn 'vowel' t 'vowel'  'vowel' n  'VOWEL' N 'VOWEL' V 'VOWEL' RS 'VOWEL' TY\n"
     ]
    }
   ],
   "source": [
    "def translate(phrase):\n",
    "    translation = \"\"\n",
    "    for letter in phrase:\n",
    "        if letter.lower() in \"aeiou\":\n",
    "            if letter.isupper():\n",
    "                translation = translation + \" 'VOWEL' \"\n",
    "            else:\n",
    "                translation = translation + \" 'vowel' \"\n",
    "        else:\n",
    "            translation = translation + letter\n",
    "    return translation\n",
    "\n",
    "print(translate(input(\"Enter a phrase: \")))\n"
   ]
  },
  {
   "cell_type": "markdown",
   "metadata": {},
   "source": [
    "## 22. Try Except"
   ]
  },
  {
   "cell_type": "code",
   "execution_count": 6,
   "metadata": {},
   "outputs": [
    {
     "name": "stdout",
     "output_type": "stream",
     "text": [
      "Enter your number: wqws\n",
      "Invalid Entries!!\n"
     ]
    }
   ],
   "source": [
    "try:\n",
    "    num = int(input(\"Enter your number: \"))\n",
    "    print(num)\n",
    "\n",
    "except: \n",
    "    print(\"Invalid Entries!!\")"
   ]
  },
  {
   "cell_type": "code",
   "execution_count": 32,
   "metadata": {},
   "outputs": [
    {
     "name": "stdout",
     "output_type": "stream",
     "text": [
      "division by zero\n"
     ]
    }
   ],
   "source": [
    "try:\n",
    "    value = 1000/0\n",
    "    num = int(input(\"Enter your number: \"))\n",
    "    print(num)\n",
    "    \n",
    "\n",
    "except ZeroDivisionError as zero: # you can write this by putting extra variables\n",
    "    print(zero)\n",
    "    \n",
    "except ValueError:\n",
    "    print(\"Invalid input!!\")\n",
    "\n",
    "# others except criteria \n",
    "except IOError:\n",
    "    print(\"An error occured trying to read the file.\")\n",
    "    \n",
    "except ValueError:\n",
    "    print(\"Non-numeric data found in the file.\")\n",
    "\n",
    "except ImportError:\n",
    "    print (\"NO module found\")\n",
    "    \n",
    "except EOFError:\n",
    "    print(\"Why did you do an EOF on me?\")\n",
    "\n",
    "except KeyboardInterrupt:\n",
    "    print(\"You cancelled the operation.\")\n",
    "\n",
    "    #default except\n",
    "except:\n",
    "    print(\"An error occured.\")"
   ]
  },
  {
   "cell_type": "markdown",
   "metadata": {},
   "source": [
    "## 23. Reading Files"
   ]
  },
  {
   "cell_type": "code",
   "execution_count": 6,
   "metadata": {},
   "outputs": [
    {
     "name": "stdout",
     "output_type": "stream",
     "text": [
      "readable? True\n",
      "Jim - Web Developer\n",
      "Rifaz - Open Source Holder\n",
      "Linkon - Data Scientist\n",
      "Sourav - Python Booster\n",
      "\n",
      "Sabir - Guiter BoySabir - Guiter Boy\n"
     ]
    }
   ],
   "source": [
    "friends_occupation = open(\"Bpy.txt\", \"r\") # Open with read mode only \n",
    "#friends_occupation = open(\"Bpy.txt\", \"w\") # for write mode\n",
    "#friends_occupation = open(\"Bpy.txt\", \"a\") # for append mode\n",
    "print(\"readable?\", friends_occupation.readable()) #check if the file is readable or not.\n",
    "print(friends_occupation.read()) #read the whole file\n",
    "#print(friends_occupation.readline()) #read a single line\n",
    "#print(friends_occupation.readlines()) #read each line one by one\n",
    "#print(friends_occupation.readlines()[1]) #can print the specific line\n",
    "\n",
    "friends_occupation.close() #After read the file, closing by this\n",
    "\n"
   ]
  },
  {
   "cell_type": "code",
   "execution_count": 28,
   "metadata": {},
   "outputs": [
    {
     "name": "stdout",
     "output_type": "stream",
     "text": [
      "Jim - Web Developer\n",
      "\n",
      "Rifaz - Open Source Holder\n",
      "\n",
      "Linkon - Data Scientist\n",
      "\n",
      "Sourav - Python Booster\n",
      "\n",
      "\n",
      "\n"
     ]
    }
   ],
   "source": [
    "friends_occupation = open(\"Bpy.txt\", \"r\")\n",
    "for friends in friends_occupation.readlines():\n",
    "    print(friends)\n",
    "    \n",
    "friends_occupation.close()"
   ]
  },
  {
   "cell_type": "markdown",
   "metadata": {},
   "source": [
    "## 24. Writing to Files"
   ]
  },
  {
   "cell_type": "code",
   "execution_count": 30,
   "metadata": {},
   "outputs": [],
   "source": [
    "friends_occupation = open(\"Bpy.txt\", \"a\") #append mode\n",
    "friends_occupation.write(\"Sabir - Guiter Boy\") #each time you run, it'll append this name in your text file\n",
    "\n",
    "friends_occupation.close()"
   ]
  },
  {
   "cell_type": "code",
   "execution_count": 31,
   "metadata": {},
   "outputs": [],
   "source": [
    "friends_occupation = open(\"BpyNew.txt\", \"w\") #writemode\n",
    "friends_occupation.write(\"Farzad- Canadian Boy\") #it'll  create a new file. And put the info\n",
    "\n",
    "friends_occupation.close()"
   ]
  },
  {
   "cell_type": "markdown",
   "metadata": {},
   "source": [
    "## 25. Ludu Star xD"
   ]
  },
  {
   "cell_type": "code",
   "execution_count": 38,
   "metadata": {},
   "outputs": [
    {
     "name": "stdout",
     "output_type": "stream",
     "text": [
      "4\n"
     ]
    }
   ],
   "source": [
    "import random\n",
    "def ludu(dice):\n",
    "    return random.randint(1,dice)\n",
    "\n",
    "print(ludu(6))   "
   ]
  },
  {
   "cell_type": "markdown",
   "metadata": {},
   "source": [
    "## 26. Classes & Objects #not complete though"
   ]
  },
  {
   "cell_type": "code",
   "execution_count": 6,
   "metadata": {},
   "outputs": [],
   "source": [
    "class Student:\n",
    "    \n",
    "    def __init__(self, name, major, gpa, is_on_probation):\n",
    "        self.name = name\n",
    "        self.major = major\n",
    "        self.gpa = gpa\n",
    "        self.is_on_probation = is_on_probation"
   ]
  },
  {
   "cell_type": "code",
   "execution_count": 5,
   "metadata": {},
   "outputs": [
    {
     "data": {
      "text/plain": [
       "'from Student import Student \\nnew_student = Student(\"Roman\", \"Software\", 6.00, False)\\n\\nprint(new_student.name)'"
      ]
     },
     "execution_count": 5,
     "metadata": {},
     "output_type": "execute_result"
    }
   ],
   "source": [
    "'''from Student import Student \n",
    "new_student = Student(\"Roman\", \"Software\", 6.00, False)\n",
    "\n",
    "print(new_student.name)'''"
   ]
  },
  {
   "cell_type": "code",
   "execution_count": null,
   "metadata": {},
   "outputs": [],
   "source": []
  }
 ],
 "metadata": {
  "kernelspec": {
   "display_name": "Python 3",
   "language": "python",
   "name": "python3"
  },
  "language_info": {
   "codemirror_mode": {
    "name": "ipython",
    "version": 3
   },
   "file_extension": ".py",
   "mimetype": "text/x-python",
   "name": "python",
   "nbconvert_exporter": "python",
   "pygments_lexer": "ipython3",
   "version": "3.7.0"
  }
 },
 "nbformat": 4,
 "nbformat_minor": 2
}
