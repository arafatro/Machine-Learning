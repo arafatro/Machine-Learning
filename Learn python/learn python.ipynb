{
 "cells": [
  {
   "cell_type": "code",
   "execution_count": 1,
   "metadata": {},
   "outputs": [
    {
     "name": "stdout",
     "output_type": "stream",
     "text": [
      "hello Python\n"
     ]
    }
   ],
   "source": [
    "print(\"hello Python\")"
   ]
  },
  {
   "cell_type": "code",
   "execution_count": 3,
   "metadata": {},
   "outputs": [
    {
     "name": "stdout",
     "output_type": "stream",
     "text": [
      "1\n",
      "2\n",
      "3\n",
      "4\n"
     ]
    }
   ],
   "source": [
    "l=[1,2,3,4]\n",
    "for x in l:\n",
    "    print(x)"
   ]
  },
  {
   "cell_type": "code",
   "execution_count": 2,
   "metadata": {},
   "outputs": [],
   "source": [
    "import math\n",
    "import random"
   ]
  },
  {
   "cell_type": "code",
   "execution_count": 3,
   "metadata": {},
   "outputs": [],
   "source": [
    "l=[]"
   ]
  },
  {
   "cell_type": "code",
   "execution_count": 6,
   "metadata": {},
   "outputs": [
    {
     "ename": "AttributeError",
     "evalue": "module 'random' has no attribute 'ranrange'",
     "output_type": "error",
     "traceback": [
      "\u001b[1;31m---------------------------------------------------------------------------\u001b[0m",
      "\u001b[1;31mAttributeError\u001b[0m                            Traceback (most recent call last)",
      "\u001b[1;32m<ipython-input-6-fe72815b6735>\u001b[0m in \u001b[0;36m<module>\u001b[1;34m()\u001b[0m\n\u001b[1;32m----> 1\u001b[1;33m \u001b[0ml\u001b[0m\u001b[1;33m=\u001b[0m\u001b[0mrandom\u001b[0m\u001b[1;33m.\u001b[0m\u001b[0mranrange\u001b[0m\u001b[1;33m(\u001b[0m\u001b[1;33m-\u001b[0m\u001b[1;36m100\u001b[0m\u001b[1;33m,\u001b[0m\u001b[1;36m100\u001b[0m\u001b[1;33m)\u001b[0m\u001b[1;33m\u001b[0m\u001b[0m\n\u001b[0m",
      "\u001b[1;31mAttributeError\u001b[0m: module 'random' has no attribute 'ranrange'"
     ]
    }
   ],
   "source": [
    "l=random.ranrange(-100,100)"
   ]
  },
  {
   "cell_type": "code",
   "execution_count": 7,
   "metadata": {},
   "outputs": [
    {
     "ename": "AttributeError",
     "evalue": "'list' object attribute 'append' is read-only",
     "output_type": "error",
     "traceback": [
      "\u001b[1;31m---------------------------------------------------------------------------\u001b[0m",
      "\u001b[1;31mAttributeError\u001b[0m                            Traceback (most recent call last)",
      "\u001b[1;32m<ipython-input-7-fc84ed3df8dd>\u001b[0m in \u001b[0;36m<module>\u001b[1;34m()\u001b[0m\n\u001b[0;32m      1\u001b[0m \u001b[1;32mfor\u001b[0m \u001b[0mx\u001b[0m \u001b[1;32min\u001b[0m \u001b[0mrange\u001b[0m\u001b[1;33m(\u001b[0m\u001b[1;36m100\u001b[0m\u001b[1;33m)\u001b[0m\u001b[1;33m:\u001b[0m\u001b[1;33m\u001b[0m\u001b[0m\n\u001b[1;32m----> 2\u001b[1;33m     \u001b[0ml\u001b[0m\u001b[1;33m.\u001b[0m\u001b[0mappend\u001b[0m\u001b[1;33m=\u001b[0m\u001b[0mrandom\u001b[0m\u001b[1;33m.\u001b[0m\u001b[0mrandrange\u001b[0m\u001b[1;33m(\u001b[0m\u001b[1;33m-\u001b[0m\u001b[1;36m100\u001b[0m\u001b[1;33m,\u001b[0m\u001b[1;36m100\u001b[0m\u001b[1;33m)\u001b[0m\u001b[1;33m\u001b[0m\u001b[0m\n\u001b[0m",
      "\u001b[1;31mAttributeError\u001b[0m: 'list' object attribute 'append' is read-only"
     ]
    }
   ],
   "source": [
    "for x in range(100):\n",
    "    l.append=random.randrange(-100,100)"
   ]
  },
  {
   "cell_type": "code",
   "execution_count": 14,
   "metadata": {},
   "outputs": [],
   "source": [
    "i=0\n",
    "while i<100:\n",
    "    l.append(random.randrange(-100,100))\n",
    "    i=i+1"
   ]
  },
  {
   "cell_type": "code",
   "execution_count": 18,
   "metadata": {},
   "outputs": [],
   "source": [
    "x=[]\n",
    "y=[]\n",
    "i=0\n",
    "while i<100:\n",
    "    x.append(random.randrange(-100,100))\n",
    "    y.append(random.randrange(-100,100))\n",
    "    i=i+1"
   ]
  },
  {
   "cell_type": "code",
   "execution_count": 19,
   "metadata": {},
   "outputs": [],
   "source": [
    "gb=[\"Good\",\"Bad\"]"
   ]
  },
  {
   "cell_type": "code",
   "execution_count": 20,
   "metadata": {},
   "outputs": [
    {
     "data": {
      "text/plain": [
       "['Good', 'Bad']"
      ]
     },
     "execution_count": 20,
     "metadata": {},
     "output_type": "execute_result"
    }
   ],
   "source": [
    "gb\n"
   ]
  },
  {
   "cell_type": "code",
   "execution_count": 21,
   "metadata": {},
   "outputs": [],
   "source": [
    "\n",
    "i=0\n",
    "l=[]\n",
    "while i<100:\n",
    "    l.append(random.choice(gb))\n",
    "    i=i+1"
   ]
  },
  {
   "cell_type": "code",
   "execution_count": 22,
   "metadata": {},
   "outputs": [
    {
     "name": "stdout",
     "output_type": "stream",
     "text": [
      "0 Bad\n",
      "1 Bad\n",
      "2 Bad\n",
      "3 Good\n",
      "4 Good\n",
      "5 Good\n",
      "6 Good\n",
      "7 Good\n",
      "8 Bad\n",
      "9 Bad\n",
      "10 Good\n",
      "11 Good\n",
      "12 Bad\n",
      "13 Good\n",
      "14 Good\n",
      "15 Bad\n",
      "16 Good\n",
      "17 Good\n",
      "18 Bad\n",
      "19 Good\n",
      "20 Bad\n",
      "21 Good\n",
      "22 Bad\n",
      "23 Good\n",
      "24 Good\n",
      "25 Bad\n",
      "26 Good\n",
      "27 Good\n",
      "28 Bad\n",
      "29 Good\n",
      "30 Bad\n",
      "31 Bad\n",
      "32 Bad\n",
      "33 Good\n",
      "34 Good\n",
      "35 Good\n",
      "36 Bad\n",
      "37 Bad\n",
      "38 Bad\n",
      "39 Good\n",
      "40 Bad\n",
      "41 Bad\n",
      "42 Bad\n",
      "43 Good\n",
      "44 Bad\n",
      "45 Bad\n",
      "46 Bad\n",
      "47 Bad\n",
      "48 Bad\n",
      "49 Good\n",
      "50 Good\n",
      "51 Bad\n",
      "52 Good\n",
      "53 Good\n",
      "54 Good\n",
      "55 Good\n",
      "56 Bad\n",
      "57 Good\n",
      "58 Bad\n",
      "59 Bad\n",
      "60 Bad\n",
      "61 Bad\n",
      "62 Good\n",
      "63 Good\n",
      "64 Bad\n",
      "65 Good\n",
      "66 Bad\n",
      "67 Good\n",
      "68 Bad\n",
      "69 Bad\n",
      "70 Good\n",
      "71 Bad\n",
      "72 Good\n",
      "73 Good\n",
      "74 Good\n",
      "75 Bad\n",
      "76 Bad\n",
      "77 Bad\n",
      "78 Bad\n",
      "79 Bad\n",
      "80 Good\n",
      "81 Bad\n",
      "82 Good\n",
      "83 Good\n",
      "84 Bad\n",
      "85 Bad\n",
      "86 Bad\n",
      "87 Good\n",
      "88 Bad\n",
      "89 Good\n",
      "90 Good\n",
      "91 Bad\n",
      "92 Good\n",
      "93 Bad\n",
      "94 Good\n",
      "95 Good\n",
      "96 Good\n",
      "97 Bad\n",
      "98 Good\n",
      "99 Bad\n"
     ]
    }
   ],
   "source": [
    "i=0\n",
    "for r in l:\n",
    "    print('%d %s'%(i,r))\n",
    "    i=i+1\n"
   ]
  },
  {
   "cell_type": "code",
   "execution_count": 30,
   "metadata": {},
   "outputs": [],
   "source": [
    "rndm=[random.choice(x),random.choice(y)]\n"
   ]
  },
  {
   "cell_type": "code",
   "execution_count": 31,
   "metadata": {},
   "outputs": [
    {
     "data": {
      "text/plain": [
       "[26, 53]"
      ]
     },
     "execution_count": 31,
     "metadata": {},
     "output_type": "execute_result"
    }
   ],
   "source": [
    "rndm\n"
   ]
  },
  {
   "cell_type": "code",
   "execution_count": 108,
   "metadata": {},
   "outputs": [
    {
     "data": {
      "text/plain": [
       "4"
      ]
     },
     "execution_count": 108,
     "metadata": {},
     "output_type": "execute_result"
    }
   ],
   "source": [
    "x.index(rndm[0])"
   ]
  },
  {
   "cell_type": "code",
   "execution_count": 35,
   "metadata": {},
   "outputs": [],
   "source": [
    "x1=sorted(x)\n",
    "y1=sorted(y)"
   ]
  },
  {
   "cell_type": "code",
   "execution_count": 109,
   "metadata": {},
   "outputs": [
    {
     "data": {
      "text/plain": [
       "72"
      ]
     },
     "execution_count": 109,
     "metadata": {},
     "output_type": "execute_result"
    }
   ],
   "source": [
    "ind1=x1.index(rndm[0])\n",
    "ind2=y1.index(rndm[1])\n",
    "ind1"
   ]
  },
  {
   "cell_type": "code",
   "execution_count": 59,
   "metadata": {},
   "outputs": [],
   "source": [
    "def neighbor(j):\n",
    "    shortestPath=math.sqrt(math.pow(x1[ind1]-x1[j],2)+math.pow(y1[ind2]-y1[j],2))\n",
    "    shortestPathLst=[shortestPath,x1[j],y1[j]]\n",
    "    return shortestPathLst\n",
    "    \n",
    "    "
   ]
  },
  {
   "cell_type": "code",
   "execution_count": 60,
   "metadata": {},
   "outputs": [],
   "source": [
    "closest=[]\n",
    "for j in range(100):\n",
    "    closest.append(neighbor(j))"
   ]
  },
  {
   "cell_type": "code",
   "execution_count": 73,
   "metadata": {},
   "outputs": [
    {
     "data": {
      "text/plain": [
       "[[5.830951894845301, 29, 48],\n",
       " [7.0710678118654755, 33, 52],\n",
       " [8.602325267042627, 33, 48],\n",
       " [9.0, 35, 53],\n",
       " [9.219544457292887, 28, 44]]"
      ]
     },
     "execution_count": 73,
     "metadata": {},
     "output_type": "execute_result"
    }
   ],
   "source": [
    "cl=sorted(closest)\n",
    "closestPoints= cl[0:5]\n",
    "closestPoints\n"
   ]
  },
  {
   "cell_type": "code",
   "execution_count": 76,
   "metadata": {},
   "outputs": [],
   "source": [
    "x2=[]\n",
    "y2=[]\n",
    "for a,b,c in closestPoints:\n",
    "    x2.append(b)\n",
    "    y2.append(c)\n"
   ]
  },
  {
   "cell_type": "code",
   "execution_count": 77,
   "metadata": {},
   "outputs": [
    {
     "data": {
      "text/plain": [
       "[29, 33, 33, 35, 28]"
      ]
     },
     "execution_count": 77,
     "metadata": {},
     "output_type": "execute_result"
    }
   ],
   "source": [
    "x2\n"
   ]
  },
  {
   "cell_type": "code",
   "execution_count": 78,
   "metadata": {},
   "outputs": [
    {
     "data": {
      "text/plain": [
       "[48, 52, 48, 53, 44]"
      ]
     },
     "execution_count": 78,
     "metadata": {},
     "output_type": "execute_result"
    }
   ],
   "source": [
    "y2"
   ]
  },
  {
   "cell_type": "code",
   "execution_count": 105,
   "metadata": {},
   "outputs": [
    {
     "data": {
      "text/plain": [
       "['Bad', 'Good', 'Bad', 'Good', 'Bad']"
      ]
     },
     "execution_count": 105,
     "metadata": {},
     "output_type": "execute_result"
    }
   ],
   "source": [
    "newLst =[]\n",
    "i=5\n",
    "j=0\n",
    "while i>0:\n",
    "    b=x2[j]\n",
    "    c=y2[j]\n",
    "    if l[b]==\"Good\" and l[c]==\"Good\":\n",
    "         newLst.append(\"Good\")\n",
    "    else:\n",
    "        newLst.append(\"Bad\")\n",
    "        \n",
    "    \n",
    "    i=i-1\n",
    "    j=j+1\n",
    "\n",
    "newLst"
   ]
  },
  {
   "cell_type": "code",
   "execution_count": 106,
   "metadata": {},
   "outputs": [
    {
     "data": {
      "text/plain": [
       "'The Point has bad paths'"
      ]
     },
     "execution_count": 106,
     "metadata": {},
     "output_type": "execute_result"
    }
   ],
   "source": [
    "def pathResult():\n",
    "    Good=newLst.count(\"Good\")\n",
    "    Bad=newLst.count(\"Bad\")\n",
    "    if Good > Bad :\n",
    "        return \"The point has good paths\"\n",
    "    else:\n",
    "        return \"The Point has bad paths\"\n",
    "    \n",
    "pathResult()"
   ]
  },
  {
   "cell_type": "code",
   "execution_count": null,
   "metadata": {},
   "outputs": [],
   "source": []
  }
 ],
 "metadata": {
  "kernelspec": {
   "display_name": "Python 3",
   "language": "python",
   "name": "python3"
  },
  "language_info": {
   "codemirror_mode": {
    "name": "ipython",
    "version": 3
   },
   "file_extension": ".py",
   "mimetype": "text/x-python",
   "name": "python",
   "nbconvert_exporter": "python",
   "pygments_lexer": "ipython3",
   "version": "3.7.0"
  }
 },
 "nbformat": 4,
 "nbformat_minor": 2
}
