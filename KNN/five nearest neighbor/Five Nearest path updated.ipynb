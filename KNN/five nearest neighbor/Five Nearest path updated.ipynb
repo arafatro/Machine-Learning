{
 "cells": [
  {
   "cell_type": "code",
   "execution_count": 1,
   "metadata": {},
   "outputs": [
    {
     "data": {
      "text/plain": [
       "68"
      ]
     },
     "execution_count": 1,
     "metadata": {},
     "output_type": "execute_result"
    }
   ],
   "source": [
    "import math\n",
    "import random\n",
    "x=[]\n",
    "y=[]\n",
    "\n",
    "i=0\n",
    "while i<100:\n",
    "    x.append(random.randrange(-100,100))\n",
    "    y.append(random.randrange(-100,100))\n",
    "    i=i+1\n",
    "    \n",
    "gb=[\"Good\",\"Bad\"]\n",
    "\n",
    "i=0\n",
    "l=[]\n",
    "while i<100:\n",
    "    l.append(random.choice(gb))\n",
    "    i=i+1\n",
    "    \n",
    "x1=sorted(x)\n",
    "y1=sorted(y)\n",
    "\n",
    "RandomIndex=x1.index(random.choice(x1))\n",
    "RandomIndex\n"
   ]
  },
  {
   "cell_type": "code",
   "execution_count": 2,
   "metadata": {},
   "outputs": [
    {
     "data": {
      "text/plain": [
       "34"
      ]
     },
     "execution_count": 2,
     "metadata": {},
     "output_type": "execute_result"
    }
   ],
   "source": [
    "x1[RandomIndex]\n"
   ]
  },
  {
   "cell_type": "code",
   "execution_count": 3,
   "metadata": {},
   "outputs": [
    {
     "data": {
      "text/plain": [
       "27"
      ]
     },
     "execution_count": 3,
     "metadata": {},
     "output_type": "execute_result"
    }
   ],
   "source": [
    "y1[RandomIndex]"
   ]
  },
  {
   "cell_type": "code",
   "execution_count": 4,
   "metadata": {},
   "outputs": [],
   "source": [
    "def neighbor(j):\n",
    "    shortestPath=math.sqrt(math.pow(x1[RandomIndex]-x1[j],2)+math.pow(y1[RandomIndex]-y1[j],2))\n",
    "    shortestPathList=[shortestPath,x1[j],y1[j]]\n",
    "    return shortestPathList"
   ]
  },
  {
   "cell_type": "code",
   "execution_count": 5,
   "metadata": {},
   "outputs": [],
   "source": [
    "closestPoints=[]\n",
    "for j in range(100):\n",
    "    closestPoints.append(neighbor(j))"
   ]
  },
  {
   "cell_type": "code",
   "execution_count": 6,
   "metadata": {},
   "outputs": [
    {
     "data": {
      "text/plain": [
       "[[0.0, 34, 27],\n",
       " [0.0, 34, 27],\n",
       " [2.23606797749979, 32, 26],\n",
       " [3.605551275463989, 31, 25],\n",
       " [5.0, 38, 30]]"
      ]
     },
     "execution_count": 6,
     "metadata": {},
     "output_type": "execute_result"
    }
   ],
   "source": [
    "closestPoints=sorted(closestPoints)\n",
    "closestPoints= closestPoints[0:5]\n",
    "closestPoints"
   ]
  },
  {
   "cell_type": "code",
   "execution_count": 7,
   "metadata": {},
   "outputs": [],
   "source": [
    "x_Axis_values=[]\n",
    "y_Axis_values=[]\n",
    "for a,b,c in closestPoints:\n",
    "    x_Axis_values.append(b)\n",
    "    y_Axis_values.append(c)"
   ]
  },
  {
   "cell_type": "code",
   "execution_count": 8,
   "metadata": {},
   "outputs": [
    {
     "data": {
      "text/plain": [
       "[34, 34, 32, 31, 38]"
      ]
     },
     "execution_count": 8,
     "metadata": {},
     "output_type": "execute_result"
    }
   ],
   "source": [
    "x_Axis_values"
   ]
  },
  {
   "cell_type": "code",
   "execution_count": 9,
   "metadata": {},
   "outputs": [
    {
     "data": {
      "text/plain": [
       "[27, 27, 26, 25, 30]"
      ]
     },
     "execution_count": 9,
     "metadata": {},
     "output_type": "execute_result"
    }
   ],
   "source": [
    "y_Axis_values"
   ]
  },
  {
   "cell_type": "code",
   "execution_count": 10,
   "metadata": {},
   "outputs": [
    {
     "data": {
      "text/plain": [
       "['Good', 'Good', 'Bad', 'Good', 'Bad']"
      ]
     },
     "execution_count": 10,
     "metadata": {},
     "output_type": "execute_result"
    }
   ],
   "source": [
    "nearestPathValue =[]\n",
    "i=5\n",
    "j=0\n",
    "while i>0:\n",
    "    b=x_Axis_values[j]\n",
    "    c=y_Axis_values[j]\n",
    "    if l[b]==\"Good\" and l[c]==\"Good\":\n",
    "         nearestPathValue.append(\"Good\")\n",
    "    else:\n",
    "        nearestPathValue.append(\"Bad\")\n",
    "        \n",
    "    \n",
    "    i=i-1\n",
    "    j=j+1\n",
    "\n",
    "nearestPathValue"
   ]
  },
  {
   "cell_type": "code",
   "execution_count": 11,
   "metadata": {},
   "outputs": [
    {
     "data": {
      "text/plain": [
       "'The point has good paths'"
      ]
     },
     "execution_count": 11,
     "metadata": {},
     "output_type": "execute_result"
    }
   ],
   "source": [
    "def pathResult():\n",
    "    Good=nearestPathValue.count(\"Good\")\n",
    "    Bad=nearestPathValue.count(\"Bad\")\n",
    "    if Good > Bad :\n",
    "        return \"The point has good paths\"\n",
    "    else:\n",
    "        return \"The Point has bad paths\"\n",
    "    \n",
    "pathResult()"
   ]
  },
  {
   "cell_type": "code",
   "execution_count": null,
   "metadata": {},
   "outputs": [],
   "source": []
  },
  {
   "cell_type": "code",
   "execution_count": null,
   "metadata": {},
   "outputs": [],
   "source": []
  }
 ],
 "metadata": {
  "kernelspec": {
   "display_name": "Python 3",
   "language": "python",
   "name": "python3"
  },
  "language_info": {
   "codemirror_mode": {
    "name": "ipython",
    "version": 3
   },
   "file_extension": ".py",
   "mimetype": "text/x-python",
   "name": "python",
   "nbconvert_exporter": "python",
   "pygments_lexer": "ipython3",
   "version": "3.7.0"
  }
 },
 "nbformat": 4,
 "nbformat_minor": 2
}
