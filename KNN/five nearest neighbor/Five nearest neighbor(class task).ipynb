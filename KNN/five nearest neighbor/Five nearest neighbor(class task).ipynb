{
 "cells": [
  {
   "cell_type": "code",
   "execution_count": 1,
   "metadata": {},
   "outputs": [],
   "source": [
    "import math\n",
    "import random\n",
    "x=[]\n",
    "y=[]\n",
    "\n",
    "i=0\n",
    "while i<100:\n",
    "    x.append(random.randrange(-100,100))\n",
    "    y.append(random.randrange(-100,100))\n",
    "    i=i+1\n",
    "    \n",
    "gb=[\"Good\",\"Bad\"]\n",
    "\n",
    "i=0\n",
    "l=[]\n",
    "while i<100:\n",
    "    l.append(random.choice(gb))\n",
    "    i=i+1\n",
    "    \n",
    "rndm=[random.choice(x),random.choice(y)]\n"
   ]
  },
  {
   "cell_type": "code",
   "execution_count": 2,
   "metadata": {},
   "outputs": [
    {
     "data": {
      "text/plain": [
       "[32, -83]"
      ]
     },
     "execution_count": 2,
     "metadata": {},
     "output_type": "execute_result"
    }
   ],
   "source": [
    "rndm\n"
   ]
  },
  {
   "cell_type": "code",
   "execution_count": 3,
   "metadata": {},
   "outputs": [],
   "source": [
    "x1=sorted(x)\n",
    "y1=sorted(y)"
   ]
  },
  {
   "cell_type": "code",
   "execution_count": 4,
   "metadata": {},
   "outputs": [],
   "source": [
    "ind1=x1.index(rndm[0])\n",
    "ind2=y1.index(rndm[1])"
   ]
  },
  {
   "cell_type": "code",
   "execution_count": 5,
   "metadata": {},
   "outputs": [],
   "source": [
    "def neighbor(j):\n",
    "    shortestPath=math.sqrt(math.pow(x1[ind1]-x1[j],2)+math.pow(y1[ind2]-y1[j],2))\n",
    "    shortestPathLst=[shortestPath,x1[j],y1[j]]\n",
    "    return shortestPathLst\n",
    "    "
   ]
  },
  {
   "cell_type": "code",
   "execution_count": 6,
   "metadata": {},
   "outputs": [],
   "source": [
    "closest=[]\n",
    "for j in range(100):\n",
    "    closest.append(neighbor(j))"
   ]
  },
  {
   "cell_type": "code",
   "execution_count": 7,
   "metadata": {},
   "outputs": [
    {
     "data": {
      "text/plain": [
       "[[77.82673062643708, -4, -14],\n",
       " [79.1580697086532, -3, -12],\n",
       " [79.62411694957753, -2, -11],\n",
       " [80.77747210701756, -10, -14],\n",
       " [81.54140052758476, 0, -8]]"
      ]
     },
     "execution_count": 7,
     "metadata": {},
     "output_type": "execute_result"
    }
   ],
   "source": [
    "cl=sorted(closest)\n",
    "closestPoints= cl[0:5]\n",
    "closestPoints"
   ]
  },
  {
   "cell_type": "code",
   "execution_count": 8,
   "metadata": {},
   "outputs": [],
   "source": [
    "x2=[]\n",
    "y2=[]\n",
    "for a,b,c in closestPoints:\n",
    "    x2.append(b)\n",
    "    y2.append(c)\n"
   ]
  },
  {
   "cell_type": "code",
   "execution_count": 9,
   "metadata": {},
   "outputs": [
    {
     "data": {
      "text/plain": [
       "[-4, -3, -2, -10, 0]"
      ]
     },
     "execution_count": 9,
     "metadata": {},
     "output_type": "execute_result"
    }
   ],
   "source": [
    "x2"
   ]
  },
  {
   "cell_type": "code",
   "execution_count": 10,
   "metadata": {},
   "outputs": [
    {
     "data": {
      "text/plain": [
       "[-14, -12, -11, -14, -8]"
      ]
     },
     "execution_count": 10,
     "metadata": {},
     "output_type": "execute_result"
    }
   ],
   "source": [
    "y2"
   ]
  },
  {
   "cell_type": "code",
   "execution_count": 11,
   "metadata": {},
   "outputs": [
    {
     "data": {
      "text/plain": [
       "['Good', 'Bad', 'Good', 'Good', 'Bad']"
      ]
     },
     "execution_count": 11,
     "metadata": {},
     "output_type": "execute_result"
    }
   ],
   "source": [
    "newLst =[]\n",
    "i=5\n",
    "j=0\n",
    "while i>0:\n",
    "    b=x2[j]\n",
    "    c=y2[j]\n",
    "    if l[b]==\"Good\" and l[c]==\"Good\":\n",
    "         newLst.append(\"Good\")\n",
    "    else:\n",
    "        newLst.append(\"Bad\")\n",
    "        \n",
    "    \n",
    "    i=i-1\n",
    "    j=j+1\n",
    "\n",
    "newLst"
   ]
  },
  {
   "cell_type": "code",
   "execution_count": 12,
   "metadata": {},
   "outputs": [
    {
     "data": {
      "text/plain": [
       "'The point has good paths'"
      ]
     },
     "execution_count": 12,
     "metadata": {},
     "output_type": "execute_result"
    }
   ],
   "source": [
    "def pathResult():\n",
    "    Good=newLst.count(\"Good\")\n",
    "    Bad=newLst.count(\"Bad\")\n",
    "    if Good > Bad :\n",
    "        return \"The point has good paths\"\n",
    "    else:\n",
    "        return \"The Point has bad paths\"\n",
    "    \n",
    "pathResult()"
   ]
  },
  {
   "cell_type": "code",
   "execution_count": null,
   "metadata": {},
   "outputs": [],
   "source": []
  }
 ],
 "metadata": {
  "kernelspec": {
   "display_name": "Python 3",
   "language": "python",
   "name": "python3"
  },
  "language_info": {
   "codemirror_mode": {
    "name": "ipython",
    "version": 3
   },
   "file_extension": ".py",
   "mimetype": "text/x-python",
   "name": "python",
   "nbconvert_exporter": "python",
   "pygments_lexer": "ipython3",
   "version": "3.7.0"
  }
 },
 "nbformat": 4,
 "nbformat_minor": 2
}
