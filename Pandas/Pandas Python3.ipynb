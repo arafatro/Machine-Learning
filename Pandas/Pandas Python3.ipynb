{
 "cells": [
  {
   "cell_type": "markdown",
   "metadata": {},
   "source": [
    "## 1. Pandas DataFrames"
   ]
  },
  {
   "cell_type": "code",
   "execution_count": 19,
   "metadata": {},
   "outputs": [
    {
     "name": "stdout",
     "output_type": "stream",
     "text": [
      "      country    capital   area  population\n",
      "0  Bangladesh      Dhaka  306.4       8.906\n",
      "1       India  New Delhi   42.7      21.750\n",
      "2    Pakistan  Islamabad  906.5       1.015\n",
      "3      Bhutan    Thimphu   26.1       1.370\n",
      "4       Nepal  Kathmandu   51.0       1.003\n"
     ]
    }
   ],
   "source": [
    "dictionaries = {\"country\": [\"Bangladesh\", \"India\", \"Pakistan\", \"Bhutan\", \"Nepal\"],\n",
    "               \"capital\": [\"Dhaka\", \"New Delhi\", \"Islamabad\", \"Thimphu\", \"Kathmandu\"],\n",
    "               \"area\": [306.4, 42.7, 906.5, 26.1, 51],\n",
    "               \"population\": [8.906, 21.75, 1.015, 1.37, 1.003]}\n",
    "\n",
    "import pandas as pd\n",
    "brics = pd.DataFrame(dict)\n",
    "print(brics)"
   ]
  },
  {
   "cell_type": "code",
   "execution_count": 11,
   "metadata": {},
   "outputs": [
    {
     "name": "stdout",
     "output_type": "stream",
     "text": [
      "        country    capital   area  population\n",
      "BAN  Bangladesh      Dhaka  306.4       8.906\n",
      "IND       India  New Delhi   42.7      21.750\n",
      "PAK    Pakistan  Islamabad  906.5       1.015\n",
      "BHU      Bhutan    Thimphu   26.1       1.370\n",
      "NEP       Nepal  Kathmandu   51.0       1.003\n"
     ]
    }
   ],
   "source": [
    "# Set the index for brics\n",
    "brics.index=[\"BAN\", \"IND\", \"PAK\", \"BHU\", \"NEP\"]\n",
    "print(brics)"
   ]
  },
  {
   "cell_type": "code",
   "execution_count": 21,
   "metadata": {},
   "outputs": [
    {
     "name": "stdout",
     "output_type": "stream",
     "text": [
      "  Unnamed: 0   cars_per_cap         country   drives_right\n",
      "0         US            809   United States           True\n",
      "1        AUS            731       Australia          False\n",
      "2        JAP            588           Japan          False\n",
      "3         IN             18           India          False\n",
      "4        RU             200          Russia           True\n",
      "5       MOR              70        Morocco            True\n",
      "6        EG              45          Egypt            True\n"
     ]
    }
   ],
   "source": [
    "# Import pandas as pd\n",
    "import pandas as pd\n",
    "\n",
    "# Import the cars.csv data: cars\n",
    "cars = pd.read_csv('cars.csv')\n",
    "\n",
    "# Print out cars\n",
    "print(cars)"
   ]
  },
  {
   "cell_type": "markdown",
   "metadata": {},
   "source": [
    "## 2. Indexing DataFrames"
   ]
  },
  {
   "cell_type": "code",
   "execution_count": 40,
   "metadata": {},
   "outputs": [
    {
     "name": "stdout",
     "output_type": "stream",
     "text": [
      "Pandas Series: \n",
      "US      809\n",
      "AUS     731\n",
      "JAP     588\n",
      "IN       18\n",
      "RU      200\n",
      "MOR      70\n",
      "EG       45\n",
      "Name: cars_per_cap, dtype: int64\n",
      "\n",
      "Pandas DataFrame: \n",
      "      cars_per_cap\n",
      "US             809\n",
      "AUS            731\n",
      "JAP            588\n",
      "IN              18\n",
      "RU             200\n",
      "MOR             70\n",
      "EG              45\n",
      "\n",
      "DataFrame with country: \n",
      "      cars_per_cap         country\n",
      "US             809   United States\n",
      "AUS            731       Australia\n",
      "JAP            588           Japan\n",
      "IN              18           India\n",
      "RU             200          Russia\n",
      "MOR             70        Morocco \n",
      "EG              45          Egypt \n"
     ]
    }
   ],
   "source": [
    "# Import pandas and cars.csv\n",
    "import pandas as pd\n",
    "cars = pd.read_csv('cars.csv', index_col = 0)\n",
    "\n",
    "# Print out country column as Pandas Series\n",
    "print(\"Pandas Series: \")\n",
    "print(cars['cars_per_cap'])\n",
    "\n",
    "# Print out country column as Pandas DataFrame\n",
    "print(\"\\nPandas DataFrame: \")\n",
    "print(cars[['cars_per_cap']])\n",
    "\n",
    "# Print out DataFrame with country and drives_right columns\n",
    "print(\"\\nDataFrame with country: \")\n",
    "print(cars[['cars_per_cap', 'country']])\n",
    "\n"
   ]
  },
  {
   "cell_type": "code",
   "execution_count": 73,
   "metadata": {},
   "outputs": [
    {
     "name": "stdout",
     "output_type": "stream",
     "text": [
      "  Unnamed: 0  cars_per_cap         country  drives_right\n",
      "0         US           809   United States          True\n",
      "1        AUS           731       Australia         False\n",
      "2        JAP           588           Japan         False\n",
      "3         IN            18           India         False\n",
      "\n",
      "   Unnamed: 0  cars_per_cap   country  drives_right\n",
      "4        RU            200    Russia          True\n",
      "5       MOR             70  Morocco           True\n"
     ]
    }
   ],
   "source": [
    "# Import cars data\n",
    "import pandas as pd\n",
    "cars = pd.read_csv('cars.csv')\n",
    "#cars = pd.read_csv('cars.csv', index_col = 0)\n",
    "\n",
    "# Print out first 4 observations\n",
    "print(cars[0:4])\n",
    "\n",
    "# Print out fifth, sixth, and seventh observation\n",
    "print(\"\\n\", cars[4:6])"
   ]
  },
  {
   "cell_type": "code",
   "execution_count": 70,
   "metadata": {},
   "outputs": [
    {
     "name": "stdout",
     "output_type": "stream",
     "text": [
      "cars_per_cap      588\n",
      "country         Japan\n",
      "drives_right    False\n",
      "Name: JAP, dtype: object\n"
     ]
    }
   ],
   "source": [
    "# Import cars data\n",
    "import pandas as pd\n",
    "#cars = pd.read_csv('cars.csv')\n",
    "cars = pd.read_csv('cars.csv', index_col = 0)\n",
    "\n",
    "# Print out observation for Japan\n",
    "print(cars.iloc[2])\n",
    "\n",
    "# Print out observations for Australia and Egypt\n",
    "#print(\"\\nloc\",cars.loc[['AUS', 'EG']])"
   ]
  },
  {
   "cell_type": "code",
   "execution_count": null,
   "metadata": {},
   "outputs": [],
   "source": []
  }
 ],
 "metadata": {
  "kernelspec": {
   "display_name": "Python 3",
   "language": "python",
   "name": "python3"
  },
  "language_info": {
   "codemirror_mode": {
    "name": "ipython",
    "version": 3
   },
   "file_extension": ".py",
   "mimetype": "text/x-python",
   "name": "python",
   "nbconvert_exporter": "python",
   "pygments_lexer": "ipython3",
   "version": "3.7.0"
  }
 },
 "nbformat": 4,
 "nbformat_minor": 2
}
